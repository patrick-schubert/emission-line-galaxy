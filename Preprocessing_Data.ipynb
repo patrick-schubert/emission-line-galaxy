{
 "cells": [
  {
   "cell_type": "code",
   "execution_count": 1,
   "metadata": {
    "colab": {},
    "colab_type": "code",
    "id": "eX1bTpmedhOa"
   },
   "outputs": [
    {
     "name": "stderr",
     "output_type": "stream",
     "text": [
      "/home/treinamento/aluno08/anaconda3/envs/VAE/lib/python3.6/site-packages/ipykernel_launcher.py:4: FutureWarning: read_table is deprecated, use read_csv instead, passing sep='\\t'.\n",
      "  after removing the cwd from sys.path.\n"
     ]
    }
   ],
   "source": [
    "import pandas as pd\n",
    "import os \n",
    "\n",
    "df = pd.read_table('linhas_dr.txt', delim_whitespace = True)\n"
   ]
  },
  {
   "cell_type": "code",
   "execution_count": 2,
   "metadata": {
    "colab": {
     "base_uri": "https://localhost:8080/",
     "height": 197
    },
    "colab_type": "code",
    "executionInfo": {
     "elapsed": 830,
     "status": "ok",
     "timestamp": 1550653566122,
     "user": {
      "displayName": "Patrick Schubert",
      "photoUrl": "",
      "userId": "04142164750928420052"
     },
     "user_tz": 180
    },
    "id": "cLlcjR8q-sHJ",
    "outputId": "8a380996-c50d-439b-fd3f-b027561e020c"
   },
   "outputs": [
    {
     "data": {
      "text/html": [
       "<div>\n",
       "<style scoped>\n",
       "    .dataframe tbody tr th:only-of-type {\n",
       "        vertical-align: middle;\n",
       "    }\n",
       "\n",
       "    .dataframe tbody tr th {\n",
       "        vertical-align: top;\n",
       "    }\n",
       "\n",
       "    .dataframe thead th {\n",
       "        text-align: right;\n",
       "    }\n",
       "</style>\n",
       "<table border=\"1\" class=\"dataframe\">\n",
       "  <thead>\n",
       "    <tr style=\"text-align: right;\">\n",
       "      <th></th>\n",
       "      <th>ra</th>\n",
       "      <th>dec</th>\n",
       "      <th>OII.3727</th>\n",
       "      <th>NeIII.3869</th>\n",
       "      <th>Hdelta</th>\n",
       "      <th>Hgamma</th>\n",
       "      <th>OIII.4363</th>\n",
       "      <th>Hbeta</th>\n",
       "      <th>OIII.4959</th>\n",
       "      <th>OIII.5007</th>\n",
       "      <th>OI.6300</th>\n",
       "      <th>NII.6548</th>\n",
       "      <th>Halpha</th>\n",
       "      <th>NII.6584</th>\n",
       "      <th>SII.6716</th>\n",
       "      <th>SII.6731</th>\n",
       "      <th>HeI.4471</th>\n",
       "      <th>mag_r</th>\n",
       "    </tr>\n",
       "  </thead>\n",
       "  <tbody>\n",
       "    <tr>\n",
       "      <th>0</th>\n",
       "      <td>146.714218</td>\n",
       "      <td>-1.041278</td>\n",
       "      <td>3.615</td>\n",
       "      <td>-999.000</td>\n",
       "      <td>0.318</td>\n",
       "      <td>0.623</td>\n",
       "      <td>-999.0</td>\n",
       "      <td>1.173</td>\n",
       "      <td>0.319</td>\n",
       "      <td>0.955</td>\n",
       "      <td>0.328</td>\n",
       "      <td>0.870</td>\n",
       "      <td>5.540000</td>\n",
       "      <td>2.599</td>\n",
       "      <td>1.668</td>\n",
       "      <td>1.627</td>\n",
       "      <td>-999.000</td>\n",
       "      <td>14.70627</td>\n",
       "    </tr>\n",
       "    <tr>\n",
       "      <th>1</th>\n",
       "      <td>146.919449</td>\n",
       "      <td>-0.990526</td>\n",
       "      <td>7.532</td>\n",
       "      <td>-999.000</td>\n",
       "      <td>-999.000</td>\n",
       "      <td>0.309</td>\n",
       "      <td>-999.0</td>\n",
       "      <td>0.357</td>\n",
       "      <td>-999.000</td>\n",
       "      <td>-999.000</td>\n",
       "      <td>0.624</td>\n",
       "      <td>0.336</td>\n",
       "      <td>1.127000</td>\n",
       "      <td>0.112</td>\n",
       "      <td>1.173</td>\n",
       "      <td>0.716</td>\n",
       "      <td>-999.000</td>\n",
       "      <td>17.51264</td>\n",
       "    </tr>\n",
       "    <tr>\n",
       "      <th>2</th>\n",
       "      <td>146.859833</td>\n",
       "      <td>-0.808905</td>\n",
       "      <td>6.209</td>\n",
       "      <td>-999.000</td>\n",
       "      <td>0.179</td>\n",
       "      <td>1.140</td>\n",
       "      <td>-999.0</td>\n",
       "      <td>0.358</td>\n",
       "      <td>-999.000</td>\n",
       "      <td>2.162</td>\n",
       "      <td>0.479</td>\n",
       "      <td>0.308</td>\n",
       "      <td>1.854000</td>\n",
       "      <td>0.922</td>\n",
       "      <td>-999.000</td>\n",
       "      <td>-999.000</td>\n",
       "      <td>0.461</td>\n",
       "      <td>17.30353</td>\n",
       "    </tr>\n",
       "    <tr>\n",
       "      <th>3</th>\n",
       "      <td>146.763367</td>\n",
       "      <td>-0.810433</td>\n",
       "      <td>1.540</td>\n",
       "      <td>5.147</td>\n",
       "      <td>-999.000</td>\n",
       "      <td>-999.000</td>\n",
       "      <td>-999.0</td>\n",
       "      <td>-999.000</td>\n",
       "      <td>1.181</td>\n",
       "      <td>-999.000</td>\n",
       "      <td>-999.000</td>\n",
       "      <td>-333.000</td>\n",
       "      <td>-999.000000</td>\n",
       "      <td>-999.000</td>\n",
       "      <td>-999.000</td>\n",
       "      <td>-999.000</td>\n",
       "      <td>-999.000</td>\n",
       "      <td>19.12228</td>\n",
       "    </tr>\n",
       "    <tr>\n",
       "      <th>4</th>\n",
       "      <td>146.963898</td>\n",
       "      <td>-0.545017</td>\n",
       "      <td>9.780</td>\n",
       "      <td>-999.000</td>\n",
       "      <td>0.994</td>\n",
       "      <td>2.368</td>\n",
       "      <td>-999.0</td>\n",
       "      <td>6.589</td>\n",
       "      <td>0.823</td>\n",
       "      <td>2.468</td>\n",
       "      <td>0.728</td>\n",
       "      <td>3.074</td>\n",
       "      <td>30.132999</td>\n",
       "      <td>9.190</td>\n",
       "      <td>6.520</td>\n",
       "      <td>4.312</td>\n",
       "      <td>0.666</td>\n",
       "      <td>17.08780</td>\n",
       "    </tr>\n",
       "  </tbody>\n",
       "</table>\n",
       "</div>"
      ],
      "text/plain": [
       "           ra       dec  OII.3727  NeIII.3869   Hdelta   Hgamma  OIII.4363  \\\n",
       "0  146.714218 -1.041278     3.615    -999.000    0.318    0.623     -999.0   \n",
       "1  146.919449 -0.990526     7.532    -999.000 -999.000    0.309     -999.0   \n",
       "2  146.859833 -0.808905     6.209    -999.000    0.179    1.140     -999.0   \n",
       "3  146.763367 -0.810433     1.540       5.147 -999.000 -999.000     -999.0   \n",
       "4  146.963898 -0.545017     9.780    -999.000    0.994    2.368     -999.0   \n",
       "\n",
       "     Hbeta  OIII.4959  OIII.5007  OI.6300  NII.6548      Halpha  NII.6584  \\\n",
       "0    1.173      0.319      0.955    0.328     0.870    5.540000     2.599   \n",
       "1    0.357   -999.000   -999.000    0.624     0.336    1.127000     0.112   \n",
       "2    0.358   -999.000      2.162    0.479     0.308    1.854000     0.922   \n",
       "3 -999.000      1.181   -999.000 -999.000  -333.000 -999.000000  -999.000   \n",
       "4    6.589      0.823      2.468    0.728     3.074   30.132999     9.190   \n",
       "\n",
       "   SII.6716  SII.6731  HeI.4471     mag_r  \n",
       "0     1.668     1.627  -999.000  14.70627  \n",
       "1     1.173     0.716  -999.000  17.51264  \n",
       "2  -999.000  -999.000     0.461  17.30353  \n",
       "3  -999.000  -999.000  -999.000  19.12228  \n",
       "4     6.520     4.312     0.666  17.08780  "
      ]
     },
     "execution_count": 2,
     "metadata": {},
     "output_type": "execute_result"
    }
   ],
   "source": [
    "df.head(5)"
   ]
  },
  {
   "cell_type": "code",
   "execution_count": 3,
   "metadata": {
    "colab": {
     "base_uri": "https://localhost:8080/",
     "height": 34
    },
    "colab_type": "code",
    "executionInfo": {
     "elapsed": 1753,
     "status": "ok",
     "timestamp": 1550653567198,
     "user": {
      "displayName": "Patrick Schubert",
      "photoUrl": "",
      "userId": "04142164750928420052"
     },
     "user_tz": 180
    },
    "id": "X9L_kZKF-sHR",
    "outputId": "05f07b72-5a44-4718-e90f-acc8f1165423"
   },
   "outputs": [
    {
     "data": {
      "text/plain": [
       "(926246, 9)"
      ]
     },
     "execution_count": 3,
     "metadata": {},
     "output_type": "execute_result"
    }
   ],
   "source": [
    "columns = [\"Hbeta\", \"OIII.4959\", \"OIII.5007\", \"NII.6548\", \"Halpha\", \"NII.6584\", \"SII.6716\", \"SII.6731\", \"mag_r\"]\n",
    "\n",
    "for column in columns:\n",
    "  if column == \"Hbeta\":\n",
    "    df_final = df[\"Hbeta\"]\n",
    "    \n",
    "  else:\n",
    "     df_final = pd.concat([df_final,df[column]],axis=1)\n",
    "df_final.shape"
   ]
  },
  {
   "cell_type": "code",
   "execution_count": 4,
   "metadata": {
    "colab": {
     "base_uri": "https://localhost:8080/",
     "height": 197
    },
    "colab_type": "code",
    "executionInfo": {
     "elapsed": 1599,
     "status": "ok",
     "timestamp": 1550653567200,
     "user": {
      "displayName": "Patrick Schubert",
      "photoUrl": "",
      "userId": "04142164750928420052"
     },
     "user_tz": 180
    },
    "id": "P9P3MaQvdNIY",
    "outputId": "da8748a4-55e1-489d-f504-d1749da2e08e"
   },
   "outputs": [
    {
     "data": {
      "text/html": [
       "<div>\n",
       "<style scoped>\n",
       "    .dataframe tbody tr th:only-of-type {\n",
       "        vertical-align: middle;\n",
       "    }\n",
       "\n",
       "    .dataframe tbody tr th {\n",
       "        vertical-align: top;\n",
       "    }\n",
       "\n",
       "    .dataframe thead th {\n",
       "        text-align: right;\n",
       "    }\n",
       "</style>\n",
       "<table border=\"1\" class=\"dataframe\">\n",
       "  <thead>\n",
       "    <tr style=\"text-align: right;\">\n",
       "      <th></th>\n",
       "      <th>Hbeta</th>\n",
       "      <th>OIII.4959</th>\n",
       "      <th>OIII.5007</th>\n",
       "      <th>NII.6548</th>\n",
       "      <th>Halpha</th>\n",
       "      <th>NII.6584</th>\n",
       "      <th>SII.6716</th>\n",
       "      <th>SII.6731</th>\n",
       "      <th>mag_r</th>\n",
       "    </tr>\n",
       "  </thead>\n",
       "  <tbody>\n",
       "    <tr>\n",
       "      <th>0</th>\n",
       "      <td>1.173</td>\n",
       "      <td>0.319</td>\n",
       "      <td>0.955</td>\n",
       "      <td>0.870</td>\n",
       "      <td>5.540000</td>\n",
       "      <td>2.599</td>\n",
       "      <td>1.668</td>\n",
       "      <td>1.627</td>\n",
       "      <td>14.70627</td>\n",
       "    </tr>\n",
       "    <tr>\n",
       "      <th>1</th>\n",
       "      <td>0.357</td>\n",
       "      <td>-999.000</td>\n",
       "      <td>-999.000</td>\n",
       "      <td>0.336</td>\n",
       "      <td>1.127000</td>\n",
       "      <td>0.112</td>\n",
       "      <td>1.173</td>\n",
       "      <td>0.716</td>\n",
       "      <td>17.51264</td>\n",
       "    </tr>\n",
       "    <tr>\n",
       "      <th>2</th>\n",
       "      <td>0.358</td>\n",
       "      <td>-999.000</td>\n",
       "      <td>2.162</td>\n",
       "      <td>0.308</td>\n",
       "      <td>1.854000</td>\n",
       "      <td>0.922</td>\n",
       "      <td>-999.000</td>\n",
       "      <td>-999.000</td>\n",
       "      <td>17.30353</td>\n",
       "    </tr>\n",
       "    <tr>\n",
       "      <th>3</th>\n",
       "      <td>-999.000</td>\n",
       "      <td>1.181</td>\n",
       "      <td>-999.000</td>\n",
       "      <td>-333.000</td>\n",
       "      <td>-999.000000</td>\n",
       "      <td>-999.000</td>\n",
       "      <td>-999.000</td>\n",
       "      <td>-999.000</td>\n",
       "      <td>19.12228</td>\n",
       "    </tr>\n",
       "    <tr>\n",
       "      <th>4</th>\n",
       "      <td>6.589</td>\n",
       "      <td>0.823</td>\n",
       "      <td>2.468</td>\n",
       "      <td>3.074</td>\n",
       "      <td>30.132999</td>\n",
       "      <td>9.190</td>\n",
       "      <td>6.520</td>\n",
       "      <td>4.312</td>\n",
       "      <td>17.08780</td>\n",
       "    </tr>\n",
       "  </tbody>\n",
       "</table>\n",
       "</div>"
      ],
      "text/plain": [
       "     Hbeta  OIII.4959  OIII.5007  NII.6548      Halpha  NII.6584  SII.6716  \\\n",
       "0    1.173      0.319      0.955     0.870    5.540000     2.599     1.668   \n",
       "1    0.357   -999.000   -999.000     0.336    1.127000     0.112     1.173   \n",
       "2    0.358   -999.000      2.162     0.308    1.854000     0.922  -999.000   \n",
       "3 -999.000      1.181   -999.000  -333.000 -999.000000  -999.000  -999.000   \n",
       "4    6.589      0.823      2.468     3.074   30.132999     9.190     6.520   \n",
       "\n",
       "   SII.6731     mag_r  \n",
       "0     1.627  14.70627  \n",
       "1     0.716  17.51264  \n",
       "2  -999.000  17.30353  \n",
       "3  -999.000  19.12228  \n",
       "4     4.312  17.08780  "
      ]
     },
     "execution_count": 4,
     "metadata": {},
     "output_type": "execute_result"
    }
   ],
   "source": [
    "df_final.head(5)"
   ]
  },
  {
   "cell_type": "code",
   "execution_count": 5,
   "metadata": {
    "colab": {
     "base_uri": "https://localhost:8080/",
     "height": 34
    },
    "colab_type": "code",
    "executionInfo": {
     "elapsed": 1389,
     "status": "ok",
     "timestamp": 1550653567203,
     "user": {
      "displayName": "Patrick Schubert",
      "photoUrl": "",
      "userId": "04142164750928420052"
     },
     "user_tz": 180
    },
    "id": "0dCTo4ypcD6-",
    "outputId": "3219d1e9-8c17-40e2-d998-b4f992699bde"
   },
   "outputs": [
    {
     "data": {
      "text/plain": [
       "(414191, 9)"
      ]
     },
     "execution_count": 5,
     "metadata": {},
     "output_type": "execute_result"
    }
   ],
   "source": [
    "for column in columns:\n",
    "  df_final = df_final[df_final[column] != -999]\n",
    "\n",
    "df_final.shape"
   ]
  },
  {
   "cell_type": "code",
   "execution_count": 6,
   "metadata": {
    "colab": {
     "base_uri": "https://localhost:8080/",
     "height": 197
    },
    "colab_type": "code",
    "executionInfo": {
     "elapsed": 1201,
     "status": "ok",
     "timestamp": 1550653567204,
     "user": {
      "displayName": "Patrick Schubert",
      "photoUrl": "",
      "userId": "04142164750928420052"
     },
     "user_tz": 180
    },
    "id": "oIIDRraD-sHU",
    "outputId": "b4e48402-8544-481a-839c-3f2f97401c0b"
   },
   "outputs": [
    {
     "data": {
      "text/html": [
       "<div>\n",
       "<style scoped>\n",
       "    .dataframe tbody tr th:only-of-type {\n",
       "        vertical-align: middle;\n",
       "    }\n",
       "\n",
       "    .dataframe tbody tr th {\n",
       "        vertical-align: top;\n",
       "    }\n",
       "\n",
       "    .dataframe thead th {\n",
       "        text-align: right;\n",
       "    }\n",
       "</style>\n",
       "<table border=\"1\" class=\"dataframe\">\n",
       "  <thead>\n",
       "    <tr style=\"text-align: right;\">\n",
       "      <th></th>\n",
       "      <th>Hbeta</th>\n",
       "      <th>OIII.4959</th>\n",
       "      <th>OIII.5007</th>\n",
       "      <th>NII.6548</th>\n",
       "      <th>Halpha</th>\n",
       "      <th>NII.6584</th>\n",
       "      <th>SII.6716</th>\n",
       "      <th>SII.6731</th>\n",
       "      <th>mag_r</th>\n",
       "    </tr>\n",
       "  </thead>\n",
       "  <tbody>\n",
       "    <tr>\n",
       "      <th>0</th>\n",
       "      <td>1.173</td>\n",
       "      <td>0.319</td>\n",
       "      <td>0.955</td>\n",
       "      <td>0.870</td>\n",
       "      <td>5.540000</td>\n",
       "      <td>2.599</td>\n",
       "      <td>1.668</td>\n",
       "      <td>1.627</td>\n",
       "      <td>14.70627</td>\n",
       "    </tr>\n",
       "    <tr>\n",
       "      <th>4</th>\n",
       "      <td>6.589</td>\n",
       "      <td>0.823</td>\n",
       "      <td>2.468</td>\n",
       "      <td>3.074</td>\n",
       "      <td>30.132999</td>\n",
       "      <td>9.190</td>\n",
       "      <td>6.520</td>\n",
       "      <td>4.312</td>\n",
       "      <td>17.08780</td>\n",
       "    </tr>\n",
       "    <tr>\n",
       "      <th>8</th>\n",
       "      <td>3.232</td>\n",
       "      <td>0.386</td>\n",
       "      <td>1.159</td>\n",
       "      <td>1.792</td>\n",
       "      <td>14.688000</td>\n",
       "      <td>5.356</td>\n",
       "      <td>2.828</td>\n",
       "      <td>1.920</td>\n",
       "      <td>16.68948</td>\n",
       "    </tr>\n",
       "    <tr>\n",
       "      <th>10</th>\n",
       "      <td>5.671</td>\n",
       "      <td>1.172</td>\n",
       "      <td>3.514</td>\n",
       "      <td>2.509</td>\n",
       "      <td>24.448999</td>\n",
       "      <td>7.499</td>\n",
       "      <td>4.689</td>\n",
       "      <td>3.506</td>\n",
       "      <td>17.58953</td>\n",
       "    </tr>\n",
       "    <tr>\n",
       "      <th>11</th>\n",
       "      <td>4.820</td>\n",
       "      <td>1.437</td>\n",
       "      <td>4.309</td>\n",
       "      <td>1.311</td>\n",
       "      <td>19.671000</td>\n",
       "      <td>3.920</td>\n",
       "      <td>4.699</td>\n",
       "      <td>4.405</td>\n",
       "      <td>17.69989</td>\n",
       "    </tr>\n",
       "  </tbody>\n",
       "</table>\n",
       "</div>"
      ],
      "text/plain": [
       "    Hbeta  OIII.4959  OIII.5007  NII.6548     Halpha  NII.6584  SII.6716  \\\n",
       "0   1.173      0.319      0.955     0.870   5.540000     2.599     1.668   \n",
       "4   6.589      0.823      2.468     3.074  30.132999     9.190     6.520   \n",
       "8   3.232      0.386      1.159     1.792  14.688000     5.356     2.828   \n",
       "10  5.671      1.172      3.514     2.509  24.448999     7.499     4.689   \n",
       "11  4.820      1.437      4.309     1.311  19.671000     3.920     4.699   \n",
       "\n",
       "    SII.6731     mag_r  \n",
       "0      1.627  14.70627  \n",
       "4      4.312  17.08780  \n",
       "8      1.920  16.68948  \n",
       "10     3.506  17.58953  \n",
       "11     4.405  17.69989  "
      ]
     },
     "execution_count": 6,
     "metadata": {},
     "output_type": "execute_result"
    }
   ],
   "source": [
    "df_final.head(5)"
   ]
  },
  {
   "cell_type": "code",
   "execution_count": 7,
   "metadata": {
    "colab": {},
    "colab_type": "code",
    "id": "hoPjy3X4fGb7"
   },
   "outputs": [],
   "source": [
    "df = df_final"
   ]
  },
  {
   "cell_type": "code",
   "execution_count": 8,
   "metadata": {
    "colab": {
     "base_uri": "https://localhost:8080/",
     "height": 52
    },
    "colab_type": "code",
    "executionInfo": {
     "elapsed": 15324,
     "status": "ok",
     "timestamp": 1550653581689,
     "user": {
      "displayName": "Patrick Schubert",
      "photoUrl": "",
      "userId": "04142164750928420052"
     },
     "user_tz": 180
    },
    "id": "eKFyHxZz-sHZ",
    "outputId": "40e07971-d8a0-4056-86d3-57a98ece2940"
   },
   "outputs": [
    {
     "name": "stdout",
     "output_type": "stream",
     "text": [
      "113281\n",
      "113281\n"
     ]
    }
   ],
   "source": [
    "\n",
    "data = []\n",
    "indexes = []\n",
    "for index, row in df.iterrows():\n",
    "    temp = row.tolist()\n",
    "  \n",
    "    if 16<temp[8]<17:\n",
    "        data.append(temp)\n",
    "        indexes.append(index)\n",
    "        \n",
    "print(len(data))\n",
    "print(len(indexes))"
   ]
  },
  {
   "cell_type": "code",
   "execution_count": 9,
   "metadata": {
    "colab": {},
    "colab_type": "code",
    "id": "AedEIOVe-sHd"
   },
   "outputs": [],
   "source": [
    "import numpy as np\n",
    "data = np.asarray(data)\n"
   ]
  },
  {
   "cell_type": "code",
   "execution_count": 10,
   "metadata": {
    "colab": {
     "base_uri": "https://localhost:8080/",
     "height": 52
    },
    "colab_type": "code",
    "executionInfo": {
     "elapsed": 14947,
     "status": "ok",
     "timestamp": 1550653581695,
     "user": {
      "displayName": "Patrick Schubert",
      "photoUrl": "",
      "userId": "04142164750928420052"
     },
     "user_tz": 180
    },
    "id": "BCn-haNe-sHh",
    "outputId": "643543d1-19ca-4a3d-8c80-bcb15df8d9b7"
   },
   "outputs": [
    {
     "data": {
      "text/plain": [
       "array([ 3.23200011,  0.38600001,  1.15900004,  1.79200006, 14.6879997 ,\n",
       "        5.35599995,  2.82800007,  1.91999996, 16.68948   ])"
      ]
     },
     "execution_count": 10,
     "metadata": {},
     "output_type": "execute_result"
    }
   ],
   "source": [
    "data[0]"
   ]
  },
  {
   "cell_type": "code",
   "execution_count": 11,
   "metadata": {
    "colab": {},
    "colab_type": "code",
    "id": "Mkp5oYB6-sHm"
   },
   "outputs": [],
   "source": [
    "#data = np.delete(data, np.s_[:2],1)\n",
    "data = np.delete(data, np.s_[-1],1)"
   ]
  },
  {
   "cell_type": "code",
   "execution_count": 12,
   "metadata": {
    "colab": {
     "base_uri": "https://localhost:8080/",
     "height": 52
    },
    "colab_type": "code",
    "executionInfo": {
     "elapsed": 14580,
     "status": "ok",
     "timestamp": 1550653581701,
     "user": {
      "displayName": "Patrick Schubert",
      "photoUrl": "",
      "userId": "04142164750928420052"
     },
     "user_tz": 180
    },
    "id": "aqfApMGz-sHp",
    "outputId": "e4a641cc-e825-4abb-eb5e-530b6ab8d050"
   },
   "outputs": [
    {
     "data": {
      "text/plain": [
       "array([ 3.23200011,  0.38600001,  1.15900004,  1.79200006, 14.6879997 ,\n",
       "        5.35599995,  2.82800007,  1.91999996])"
      ]
     },
     "execution_count": 12,
     "metadata": {},
     "output_type": "execute_result"
    }
   ],
   "source": [
    "data[0]"
   ]
  },
  {
   "cell_type": "code",
   "execution_count": 13,
   "metadata": {
    "colab": {
     "base_uri": "https://localhost:8080/",
     "height": 141
    },
    "colab_type": "code",
    "executionInfo": {
     "elapsed": 15324,
     "status": "ok",
     "timestamp": 1550653582852,
     "user": {
      "displayName": "Patrick Schubert",
      "photoUrl": "",
      "userId": "04142164750928420052"
     },
     "user_tz": 180
    },
    "id": "drKCgkZL-sHu",
    "outputId": "e074037c-398c-4304-b308-930050da101b"
   },
   "outputs": [
    {
     "name": "stdout",
     "output_type": "stream",
     "text": [
      "(113281, 8)\n",
      "[[0.00760224 0.00038756 0.00041423 0.01908745 0.00694453 0.01929848\n",
      "  0.02884056 0.02638255]\n",
      " [0.00325013 0.00028046 0.00030634 0.00852797 0.00227025 0.00874627\n",
      "  0.02022434 0.01643836]\n",
      " [0.00458513 0.00108318 0.00110939 0.00189028 0.00431391 0.0021039\n",
      "  0.02514034 0.02419367]]\n"
     ]
    }
   ],
   "source": [
    "print(data.shape)\n",
    "\n",
    "data_normalized = np.zeros(data.shape)\n",
    "\n",
    "for feature in range(data.shape[1]):\n",
    "    Min = min(data[:,feature])\n",
    "    Max = max(data[:,feature])\n",
    "    for training_exemple in range(data.shape[0]):\n",
    "        data_normalized[training_exemple][feature] = (data[training_exemple][feature] - Min) / (Max - Min)\n",
    "\n",
    "print(data_normalized[:3])\n"
   ]
  },
  {
   "cell_type": "code",
   "execution_count": 14,
   "metadata": {
    "colab": {
     "base_uri": "https://localhost:8080/",
     "height": 70
    },
    "colab_type": "code",
    "executionInfo": {
     "elapsed": 15144,
     "status": "ok",
     "timestamp": 1550653582854,
     "user": {
      "displayName": "Patrick Schubert",
      "photoUrl": "",
      "userId": "04142164750928420052"
     },
     "user_tz": 180
    },
    "id": "_76LNpAc-sHz",
    "outputId": "f6c2fb3d-c381-4d70-bbce-5af2eb109074"
   },
   "outputs": [
    {
     "name": "stdout",
     "output_type": "stream",
     "text": [
      "Valor Mínimo:0.0 \n",
      "Valor Máximo:1.0\n",
      "[INFO] Dados Normalizados\n"
     ]
    }
   ],
   "source": [
    "print('Valor Mínimo:{} \\nValor Máximo:{}'.format(np.min(data_normalized[:,0]),np.max(data_normalized[:,0])))\n",
    "\n",
    "contador_minimo = 0\n",
    "contador_maximo = 0\n",
    "for x in range(data_normalized.shape[1]):\n",
    "    valor_minimo = np.min(data_normalized[:,0])\n",
    "    valor_maximo = np.max(data_normalized[:,0])\n",
    "    if valor_minimo == 0.0:                      \n",
    "        contador_minimo += 1\n",
    "    if valor_maximo == 1.0:\n",
    "        contador_maximo += 1\n",
    "                \n",
    "if contador_minimo and contador_maximo == 8:\n",
    "    print('[INFO] Dados Normalizados')\n",
    "    "
   ]
  },
  {
   "cell_type": "code",
   "execution_count": 15,
   "metadata": {
    "colab": {},
    "colab_type": "code",
    "id": "jT_xOTWNKUEi"
   },
   "outputs": [],
   "source": [
    "df = pd.DataFrame(data_normalized)"
   ]
  },
  {
   "cell_type": "code",
   "execution_count": 16,
   "metadata": {
    "colab": {
     "base_uri": "https://localhost:8080/",
     "height": 197
    },
    "colab_type": "code",
    "executionInfo": {
     "elapsed": 815,
     "status": "ok",
     "timestamp": 1550654147587,
     "user": {
      "displayName": "Patrick Schubert",
      "photoUrl": "",
      "userId": "04142164750928420052"
     },
     "user_tz": 180
    },
    "id": "gJ5_axagMG8T",
    "outputId": "e0d9a9c9-32bd-47ab-909b-81ab58007eb6"
   },
   "outputs": [
    {
     "data": {
      "text/html": [
       "<div>\n",
       "<style scoped>\n",
       "    .dataframe tbody tr th:only-of-type {\n",
       "        vertical-align: middle;\n",
       "    }\n",
       "\n",
       "    .dataframe tbody tr th {\n",
       "        vertical-align: top;\n",
       "    }\n",
       "\n",
       "    .dataframe thead th {\n",
       "        text-align: right;\n",
       "    }\n",
       "</style>\n",
       "<table border=\"1\" class=\"dataframe\">\n",
       "  <thead>\n",
       "    <tr style=\"text-align: right;\">\n",
       "      <th></th>\n",
       "      <th>0</th>\n",
       "      <th>1</th>\n",
       "      <th>2</th>\n",
       "      <th>3</th>\n",
       "      <th>4</th>\n",
       "      <th>5</th>\n",
       "      <th>6</th>\n",
       "      <th>7</th>\n",
       "    </tr>\n",
       "  </thead>\n",
       "  <tbody>\n",
       "    <tr>\n",
       "      <th>0</th>\n",
       "      <td>0.007602</td>\n",
       "      <td>0.000388</td>\n",
       "      <td>0.000414</td>\n",
       "      <td>0.019087</td>\n",
       "      <td>0.006945</td>\n",
       "      <td>0.019298</td>\n",
       "      <td>0.028841</td>\n",
       "      <td>0.026383</td>\n",
       "    </tr>\n",
       "    <tr>\n",
       "      <th>1</th>\n",
       "      <td>0.003250</td>\n",
       "      <td>0.000280</td>\n",
       "      <td>0.000306</td>\n",
       "      <td>0.008528</td>\n",
       "      <td>0.002270</td>\n",
       "      <td>0.008746</td>\n",
       "      <td>0.020224</td>\n",
       "      <td>0.016438</td>\n",
       "    </tr>\n",
       "    <tr>\n",
       "      <th>2</th>\n",
       "      <td>0.004585</td>\n",
       "      <td>0.001083</td>\n",
       "      <td>0.001109</td>\n",
       "      <td>0.001890</td>\n",
       "      <td>0.004314</td>\n",
       "      <td>0.002104</td>\n",
       "      <td>0.025140</td>\n",
       "      <td>0.024194</td>\n",
       "    </tr>\n",
       "    <tr>\n",
       "      <th>3</th>\n",
       "      <td>0.003170</td>\n",
       "      <td>0.002323</td>\n",
       "      <td>0.002350</td>\n",
       "      <td>0.044259</td>\n",
       "      <td>0.003121</td>\n",
       "      <td>0.044462</td>\n",
       "      <td>0.041305</td>\n",
       "      <td>0.050997</td>\n",
       "    </tr>\n",
       "    <tr>\n",
       "      <th>4</th>\n",
       "      <td>0.009515</td>\n",
       "      <td>0.000434</td>\n",
       "      <td>0.000461</td>\n",
       "      <td>0.032613</td>\n",
       "      <td>0.009839</td>\n",
       "      <td>0.032823</td>\n",
       "      <td>0.032308</td>\n",
       "      <td>0.037675</td>\n",
       "    </tr>\n",
       "  </tbody>\n",
       "</table>\n",
       "</div>"
      ],
      "text/plain": [
       "          0         1         2         3         4         5         6  \\\n",
       "0  0.007602  0.000388  0.000414  0.019087  0.006945  0.019298  0.028841   \n",
       "1  0.003250  0.000280  0.000306  0.008528  0.002270  0.008746  0.020224   \n",
       "2  0.004585  0.001083  0.001109  0.001890  0.004314  0.002104  0.025140   \n",
       "3  0.003170  0.002323  0.002350  0.044259  0.003121  0.044462  0.041305   \n",
       "4  0.009515  0.000434  0.000461  0.032613  0.009839  0.032823  0.032308   \n",
       "\n",
       "          7  \n",
       "0  0.026383  \n",
       "1  0.016438  \n",
       "2  0.024194  \n",
       "3  0.050997  \n",
       "4  0.037675  "
      ]
     },
     "execution_count": 16,
     "metadata": {},
     "output_type": "execute_result"
    }
   ],
   "source": [
    "df.head(5)"
   ]
  },
  {
   "cell_type": "code",
   "execution_count": 17,
   "metadata": {
    "colab": {},
    "colab_type": "code",
    "id": "v7AjbJGSMLFB"
   },
   "outputs": [],
   "source": [
    "df.to_csv(\"Training_Data\", index = False)"
   ]
  },
  {
   "cell_type": "code",
   "execution_count": 18,
   "metadata": {},
   "outputs": [
    {
     "data": {
      "text/plain": [
       "(113281, 8)"
      ]
     },
     "execution_count": 18,
     "metadata": {},
     "output_type": "execute_result"
    }
   ],
   "source": [
    "df.shape"
   ]
  },
  {
   "cell_type": "code",
   "execution_count": 19,
   "metadata": {},
   "outputs": [
    {
     "data": {
      "text/html": [
       "<div>\n",
       "<style scoped>\n",
       "    .dataframe tbody tr th:only-of-type {\n",
       "        vertical-align: middle;\n",
       "    }\n",
       "\n",
       "    .dataframe tbody tr th {\n",
       "        vertical-align: top;\n",
       "    }\n",
       "\n",
       "    .dataframe thead th {\n",
       "        text-align: right;\n",
       "    }\n",
       "</style>\n",
       "<table border=\"1\" class=\"dataframe\">\n",
       "  <thead>\n",
       "    <tr style=\"text-align: right;\">\n",
       "      <th></th>\n",
       "      <th>0</th>\n",
       "      <th>1</th>\n",
       "      <th>2</th>\n",
       "      <th>3</th>\n",
       "      <th>4</th>\n",
       "      <th>5</th>\n",
       "      <th>6</th>\n",
       "      <th>7</th>\n",
       "    </tr>\n",
       "  </thead>\n",
       "  <tbody>\n",
       "    <tr>\n",
       "      <th>0</th>\n",
       "      <td>0.007602</td>\n",
       "      <td>0.000388</td>\n",
       "      <td>0.000414</td>\n",
       "      <td>0.019087</td>\n",
       "      <td>0.006945</td>\n",
       "      <td>0.019298</td>\n",
       "      <td>0.028841</td>\n",
       "      <td>0.026383</td>\n",
       "    </tr>\n",
       "    <tr>\n",
       "      <th>1</th>\n",
       "      <td>0.003250</td>\n",
       "      <td>0.000280</td>\n",
       "      <td>0.000306</td>\n",
       "      <td>0.008528</td>\n",
       "      <td>0.002270</td>\n",
       "      <td>0.008746</td>\n",
       "      <td>0.020224</td>\n",
       "      <td>0.016438</td>\n",
       "    </tr>\n",
       "    <tr>\n",
       "      <th>2</th>\n",
       "      <td>0.004585</td>\n",
       "      <td>0.001083</td>\n",
       "      <td>0.001109</td>\n",
       "      <td>0.001890</td>\n",
       "      <td>0.004314</td>\n",
       "      <td>0.002104</td>\n",
       "      <td>0.025140</td>\n",
       "      <td>0.024194</td>\n",
       "    </tr>\n",
       "    <tr>\n",
       "      <th>3</th>\n",
       "      <td>0.003170</td>\n",
       "      <td>0.002323</td>\n",
       "      <td>0.002350</td>\n",
       "      <td>0.044259</td>\n",
       "      <td>0.003121</td>\n",
       "      <td>0.044462</td>\n",
       "      <td>0.041305</td>\n",
       "      <td>0.050997</td>\n",
       "    </tr>\n",
       "    <tr>\n",
       "      <th>4</th>\n",
       "      <td>0.009515</td>\n",
       "      <td>0.000434</td>\n",
       "      <td>0.000461</td>\n",
       "      <td>0.032613</td>\n",
       "      <td>0.009839</td>\n",
       "      <td>0.032823</td>\n",
       "      <td>0.032308</td>\n",
       "      <td>0.037675</td>\n",
       "    </tr>\n",
       "  </tbody>\n",
       "</table>\n",
       "</div>"
      ],
      "text/plain": [
       "          0         1         2         3         4         5         6  \\\n",
       "0  0.007602  0.000388  0.000414  0.019087  0.006945  0.019298  0.028841   \n",
       "1  0.003250  0.000280  0.000306  0.008528  0.002270  0.008746  0.020224   \n",
       "2  0.004585  0.001083  0.001109  0.001890  0.004314  0.002104  0.025140   \n",
       "3  0.003170  0.002323  0.002350  0.044259  0.003121  0.044462  0.041305   \n",
       "4  0.009515  0.000434  0.000461  0.032613  0.009839  0.032823  0.032308   \n",
       "\n",
       "          7  \n",
       "0  0.026383  \n",
       "1  0.016438  \n",
       "2  0.024194  \n",
       "3  0.050997  \n",
       "4  0.037675  "
      ]
     },
     "execution_count": 19,
     "metadata": {},
     "output_type": "execute_result"
    }
   ],
   "source": [
    "dff = pd.read_csv(\"Training_Data\")\n",
    "dff.head(5)"
   ]
  },
  {
   "cell_type": "code",
   "execution_count": 20,
   "metadata": {},
   "outputs": [
    {
     "data": {
      "text/plain": [
       "(113281, 8)"
      ]
     },
     "execution_count": 20,
     "metadata": {},
     "output_type": "execute_result"
    }
   ],
   "source": [
    "dff.shape"
   ]
  },
  {
   "cell_type": "code",
   "execution_count": 4,
   "metadata": {},
   "outputs": [
    {
     "data": {
      "text/html": [
       "<div>\n",
       "<style scoped>\n",
       "    .dataframe tbody tr th:only-of-type {\n",
       "        vertical-align: middle;\n",
       "    }\n",
       "\n",
       "    .dataframe tbody tr th {\n",
       "        vertical-align: top;\n",
       "    }\n",
       "\n",
       "    .dataframe thead th {\n",
       "        text-align: right;\n",
       "    }\n",
       "</style>\n",
       "<table border=\"1\" class=\"dataframe\">\n",
       "  <thead>\n",
       "    <tr style=\"text-align: right;\">\n",
       "      <th></th>\n",
       "      <th>Feature 1</th>\n",
       "      <th>Feature 2</th>\n",
       "      <th>Feature 3</th>\n",
       "      <th>Feature 4</th>\n",
       "      <th>Feature 5</th>\n",
       "      <th>Feature 6</th>\n",
       "      <th>Feature 7</th>\n",
       "      <th>Feature 8</th>\n",
       "      <th>Feature 9</th>\n",
       "      <th>Feature 10</th>\n",
       "      <th>type1</th>\n",
       "      <th>whan</th>\n",
       "    </tr>\n",
       "  </thead>\n",
       "  <tbody>\n",
       "    <tr>\n",
       "      <th>0</th>\n",
       "      <td>0.007602</td>\n",
       "      <td>0.000388</td>\n",
       "      <td>0.000414</td>\n",
       "      <td>0.019087</td>\n",
       "      <td>0.006945</td>\n",
       "      <td>0.019298</td>\n",
       "      <td>0.028841</td>\n",
       "      <td>0.026383</td>\n",
       "      <td>1.0</td>\n",
       "      <td>1.0</td>\n",
       "      <td>1.0</td>\n",
       "      <td>1.0</td>\n",
       "    </tr>\n",
       "    <tr>\n",
       "      <th>1</th>\n",
       "      <td>0.003250</td>\n",
       "      <td>0.000280</td>\n",
       "      <td>0.000306</td>\n",
       "      <td>0.008528</td>\n",
       "      <td>0.002270</td>\n",
       "      <td>0.008746</td>\n",
       "      <td>0.020224</td>\n",
       "      <td>0.016438</td>\n",
       "      <td>2.0</td>\n",
       "      <td>3.0</td>\n",
       "      <td>2.0</td>\n",
       "      <td>3.0</td>\n",
       "    </tr>\n",
       "    <tr>\n",
       "      <th>2</th>\n",
       "      <td>0.004585</td>\n",
       "      <td>0.001083</td>\n",
       "      <td>0.001109</td>\n",
       "      <td>0.001890</td>\n",
       "      <td>0.004314</td>\n",
       "      <td>0.002104</td>\n",
       "      <td>0.025140</td>\n",
       "      <td>0.024194</td>\n",
       "      <td>1.0</td>\n",
       "      <td>1.0</td>\n",
       "      <td>1.0</td>\n",
       "      <td>1.0</td>\n",
       "    </tr>\n",
       "    <tr>\n",
       "      <th>3</th>\n",
       "      <td>0.003170</td>\n",
       "      <td>0.002323</td>\n",
       "      <td>0.002350</td>\n",
       "      <td>0.044259</td>\n",
       "      <td>0.003121</td>\n",
       "      <td>0.044462</td>\n",
       "      <td>0.041305</td>\n",
       "      <td>0.050997</td>\n",
       "      <td>2.0</td>\n",
       "      <td>2.0</td>\n",
       "      <td>2.0</td>\n",
       "      <td>2.0</td>\n",
       "    </tr>\n",
       "    <tr>\n",
       "      <th>4</th>\n",
       "      <td>0.009515</td>\n",
       "      <td>0.000434</td>\n",
       "      <td>0.000461</td>\n",
       "      <td>0.032613</td>\n",
       "      <td>0.009839</td>\n",
       "      <td>0.032823</td>\n",
       "      <td>0.032308</td>\n",
       "      <td>0.037675</td>\n",
       "      <td>2.0</td>\n",
       "      <td>2.0</td>\n",
       "      <td>2.0</td>\n",
       "      <td>2.0</td>\n",
       "    </tr>\n",
       "  </tbody>\n",
       "</table>\n",
       "</div>"
      ],
      "text/plain": [
       "   Feature 1  Feature 2  Feature 3  Feature 4  Feature 5  Feature 6  \\\n",
       "0   0.007602   0.000388   0.000414   0.019087   0.006945   0.019298   \n",
       "1   0.003250   0.000280   0.000306   0.008528   0.002270   0.008746   \n",
       "2   0.004585   0.001083   0.001109   0.001890   0.004314   0.002104   \n",
       "3   0.003170   0.002323   0.002350   0.044259   0.003121   0.044462   \n",
       "4   0.009515   0.000434   0.000461   0.032613   0.009839   0.032823   \n",
       "\n",
       "   Feature 7  Feature 8  Feature 9  Feature 10  type1  whan  \n",
       "0   0.028841   0.026383        1.0         1.0    1.0   1.0  \n",
       "1   0.020224   0.016438        2.0         3.0    2.0   3.0  \n",
       "2   0.025140   0.024194        1.0         1.0    1.0   1.0  \n",
       "3   0.041305   0.050997        2.0         2.0    2.0   2.0  \n",
       "4   0.032308   0.037675        2.0         2.0    2.0   2.0  "
      ]
     },
     "execution_count": 4,
     "metadata": {},
     "output_type": "execute_result"
    }
   ],
   "source": [
    "import pandas as pd\n",
    "import numpy as np\n",
    "\n",
    "data_normalized = pd.read_csv(\"Training_Data\")\n",
    "data_normalized = np.asarray(data_normalized)\n",
    "\n",
    "classes = pd.read_csv(\"Classes.csv\")\n",
    "\n",
    "features = []\n",
    "for i in range(data_normalized.shape[1]):\n",
    "    features.append('Feature {}'.format(i+1))\n",
    "\n",
    "features.append(\"type1\")\n",
    "features.append(\"whan\")\n",
    "type1 = np.copy(classes.values[:,1])\n",
    "type1 = np.reshape(type1, (type1.shape[0],1))\n",
    "concat = np.concatenate([data_normalized, type1], axis = 1)\n",
    "whan = np.copy(classes.values[:,-1])\n",
    "whan = np.reshape(whan, (whan.shape[0],1))\n",
    "concat = np.concatenate([concat, whan], axis = 1)\n",
    "data_df = pd.DataFrame(data = concat , columns = features)\n",
    "\n",
    "data_df.to_csv(\"Dataset.csv\", index = False)\n",
    "data_df.head(5)"
   ]
  },
  {
   "cell_type": "code",
   "execution_count": 17,
   "metadata": {},
   "outputs": [
    {
     "data": {
      "text/plain": [
       "(113281, 4)"
      ]
     },
     "execution_count": 17,
     "metadata": {},
     "output_type": "execute_result"
    }
   ],
   "source": [
    "classes.shape"
   ]
  },
  {
   "cell_type": "code",
   "execution_count": 18,
   "metadata": {},
   "outputs": [],
   "source": [
    "seed = 7\n",
    "np.random.seed(seed)\n",
    "#train_df = data_df\n",
    "train_df = data_df.sample(frac=1)\n",
    "train_df.to_csv(\"Training_Data\", index = False)\n"
   ]
  },
  {
   "cell_type": "code",
   "execution_count": 3,
   "metadata": {},
   "outputs": [
    {
     "data": {
      "text/html": [
       "<div>\n",
       "<style scoped>\n",
       "    .dataframe tbody tr th:only-of-type {\n",
       "        vertical-align: middle;\n",
       "    }\n",
       "\n",
       "    .dataframe tbody tr th {\n",
       "        vertical-align: top;\n",
       "    }\n",
       "\n",
       "    .dataframe thead th {\n",
       "        text-align: right;\n",
       "    }\n",
       "</style>\n",
       "<table border=\"1\" class=\"dataframe\">\n",
       "  <thead>\n",
       "    <tr style=\"text-align: right;\">\n",
       "      <th></th>\n",
       "      <th>Feature 1</th>\n",
       "      <th>Feature 2</th>\n",
       "      <th>Feature 3</th>\n",
       "      <th>Feature 4</th>\n",
       "      <th>Feature 5</th>\n",
       "      <th>Feature 6</th>\n",
       "      <th>Feature 7</th>\n",
       "      <th>Feature 8</th>\n",
       "      <th>type1</th>\n",
       "      <th>whan</th>\n",
       "    </tr>\n",
       "  </thead>\n",
       "  <tbody>\n",
       "    <tr>\n",
       "      <th>0</th>\n",
       "      <td>0.007602</td>\n",
       "      <td>0.000388</td>\n",
       "      <td>0.000414</td>\n",
       "      <td>0.019087</td>\n",
       "      <td>0.006945</td>\n",
       "      <td>0.019298</td>\n",
       "      <td>0.028841</td>\n",
       "      <td>0.026383</td>\n",
       "      <td>1.0</td>\n",
       "      <td>1.0</td>\n",
       "    </tr>\n",
       "    <tr>\n",
       "      <th>1</th>\n",
       "      <td>0.003250</td>\n",
       "      <td>0.000280</td>\n",
       "      <td>0.000306</td>\n",
       "      <td>0.008528</td>\n",
       "      <td>0.002270</td>\n",
       "      <td>0.008746</td>\n",
       "      <td>0.020224</td>\n",
       "      <td>0.016438</td>\n",
       "      <td>2.0</td>\n",
       "      <td>3.0</td>\n",
       "    </tr>\n",
       "    <tr>\n",
       "      <th>2</th>\n",
       "      <td>0.004585</td>\n",
       "      <td>0.001083</td>\n",
       "      <td>0.001109</td>\n",
       "      <td>0.001890</td>\n",
       "      <td>0.004314</td>\n",
       "      <td>0.002104</td>\n",
       "      <td>0.025140</td>\n",
       "      <td>0.024194</td>\n",
       "      <td>1.0</td>\n",
       "      <td>1.0</td>\n",
       "    </tr>\n",
       "    <tr>\n",
       "      <th>3</th>\n",
       "      <td>0.003170</td>\n",
       "      <td>0.002323</td>\n",
       "      <td>0.002350</td>\n",
       "      <td>0.044259</td>\n",
       "      <td>0.003121</td>\n",
       "      <td>0.044462</td>\n",
       "      <td>0.041305</td>\n",
       "      <td>0.050997</td>\n",
       "      <td>2.0</td>\n",
       "      <td>2.0</td>\n",
       "    </tr>\n",
       "    <tr>\n",
       "      <th>4</th>\n",
       "      <td>0.009515</td>\n",
       "      <td>0.000434</td>\n",
       "      <td>0.000461</td>\n",
       "      <td>0.032613</td>\n",
       "      <td>0.009839</td>\n",
       "      <td>0.032823</td>\n",
       "      <td>0.032308</td>\n",
       "      <td>0.037675</td>\n",
       "      <td>2.0</td>\n",
       "      <td>2.0</td>\n",
       "    </tr>\n",
       "  </tbody>\n",
       "</table>\n",
       "</div>"
      ],
      "text/plain": [
       "   Feature 1  Feature 2  Feature 3  Feature 4  Feature 5  Feature 6  \\\n",
       "0   0.007602   0.000388   0.000414   0.019087   0.006945   0.019298   \n",
       "1   0.003250   0.000280   0.000306   0.008528   0.002270   0.008746   \n",
       "2   0.004585   0.001083   0.001109   0.001890   0.004314   0.002104   \n",
       "3   0.003170   0.002323   0.002350   0.044259   0.003121   0.044462   \n",
       "4   0.009515   0.000434   0.000461   0.032613   0.009839   0.032823   \n",
       "\n",
       "   Feature 7  Feature 8  type1  whan  \n",
       "0   0.028841   0.026383    1.0   1.0  \n",
       "1   0.020224   0.016438    2.0   3.0  \n",
       "2   0.025140   0.024194    1.0   1.0  \n",
       "3   0.041305   0.050997    2.0   2.0  \n",
       "4   0.032308   0.037675    2.0   2.0  "
      ]
     },
     "execution_count": 3,
     "metadata": {},
     "output_type": "execute_result"
    }
   ],
   "source": [
    "import pandas as pd\n",
    "\n",
    "train_df = pd.read_csv(\"Training_Data\")\n",
    "\n",
    "train_df.head(5)"
   ]
  },
  {
   "cell_type": "code",
   "execution_count": null,
   "metadata": {},
   "outputs": [],
   "source": []
  },
  {
   "cell_type": "code",
   "execution_count": 1,
   "metadata": {},
   "outputs": [
    {
     "data": {
      "text/html": [
       "<div>\n",
       "<style scoped>\n",
       "    .dataframe tbody tr th:only-of-type {\n",
       "        vertical-align: middle;\n",
       "    }\n",
       "\n",
       "    .dataframe tbody tr th {\n",
       "        vertical-align: top;\n",
       "    }\n",
       "\n",
       "    .dataframe thead th {\n",
       "        text-align: right;\n",
       "    }\n",
       "</style>\n",
       "<table border=\"1\" class=\"dataframe\">\n",
       "  <thead>\n",
       "    <tr style=\"text-align: right;\">\n",
       "      <th></th>\n",
       "      <th>3727_ew</th>\n",
       "      <th>4340_ew</th>\n",
       "      <th>4861_ew</th>\n",
       "      <th>5007_ew</th>\n",
       "      <th>6300_ew</th>\n",
       "      <th>6548_ew</th>\n",
       "      <th>6563_ew</th>\n",
       "      <th>6584_ew</th>\n",
       "      <th>6717_ew</th>\n",
       "      <th>6731_ew</th>\n",
       "      <th>BPT_class_n</th>\n",
       "      <th>WHAN_class_n</th>\n",
       "    </tr>\n",
       "  </thead>\n",
       "  <tbody>\n",
       "    <tr>\n",
       "      <th>0</th>\n",
       "      <td>0.030808</td>\n",
       "      <td>0.030655</td>\n",
       "      <td>0.026629</td>\n",
       "      <td>0.001293</td>\n",
       "      <td>0.014095</td>\n",
       "      <td>0.045860</td>\n",
       "      <td>0.025267</td>\n",
       "      <td>0.046599</td>\n",
       "      <td>0.074986</td>\n",
       "      <td>0.065604</td>\n",
       "      <td>1.0</td>\n",
       "      <td>1.0</td>\n",
       "    </tr>\n",
       "    <tr>\n",
       "      <th>1</th>\n",
       "      <td>0.013793</td>\n",
       "      <td>0.018258</td>\n",
       "      <td>0.013510</td>\n",
       "      <td>0.000406</td>\n",
       "      <td>0.005669</td>\n",
       "      <td>0.029088</td>\n",
       "      <td>0.015353</td>\n",
       "      <td>0.029837</td>\n",
       "      <td>0.031059</td>\n",
       "      <td>0.029478</td>\n",
       "      <td>1.0</td>\n",
       "      <td>1.0</td>\n",
       "    </tr>\n",
       "    <tr>\n",
       "      <th>2</th>\n",
       "      <td>0.017046</td>\n",
       "      <td>0.008371</td>\n",
       "      <td>0.002693</td>\n",
       "      <td>0.000362</td>\n",
       "      <td>0.002655</td>\n",
       "      <td>0.008218</td>\n",
       "      <td>0.002348</td>\n",
       "      <td>0.008986</td>\n",
       "      <td>0.012448</td>\n",
       "      <td>0.017423</td>\n",
       "      <td>3.0</td>\n",
       "      <td>3.0</td>\n",
       "    </tr>\n",
       "    <tr>\n",
       "      <th>3</th>\n",
       "      <td>0.016552</td>\n",
       "      <td>0.029405</td>\n",
       "      <td>0.021914</td>\n",
       "      <td>0.001000</td>\n",
       "      <td>0.005681</td>\n",
       "      <td>0.035990</td>\n",
       "      <td>0.020421</td>\n",
       "      <td>0.036726</td>\n",
       "      <td>0.046145</td>\n",
       "      <td>0.032683</td>\n",
       "      <td>1.0</td>\n",
       "      <td>1.0</td>\n",
       "    </tr>\n",
       "    <tr>\n",
       "      <th>4</th>\n",
       "      <td>0.036596</td>\n",
       "      <td>0.015593</td>\n",
       "      <td>0.014583</td>\n",
       "      <td>0.007104</td>\n",
       "      <td>0.023544</td>\n",
       "      <td>0.026653</td>\n",
       "      <td>0.011565</td>\n",
       "      <td>0.027402</td>\n",
       "      <td>0.041117</td>\n",
       "      <td>0.037154</td>\n",
       "      <td>2.0</td>\n",
       "      <td>2.0</td>\n",
       "    </tr>\n",
       "  </tbody>\n",
       "</table>\n",
       "</div>"
      ],
      "text/plain": [
       "    3727_ew   4340_ew   4861_ew   5007_ew   6300_ew   6548_ew   6563_ew  \\\n",
       "0  0.030808  0.030655  0.026629  0.001293  0.014095  0.045860  0.025267   \n",
       "1  0.013793  0.018258  0.013510  0.000406  0.005669  0.029088  0.015353   \n",
       "2  0.017046  0.008371  0.002693  0.000362  0.002655  0.008218  0.002348   \n",
       "3  0.016552  0.029405  0.021914  0.001000  0.005681  0.035990  0.020421   \n",
       "4  0.036596  0.015593  0.014583  0.007104  0.023544  0.026653  0.011565   \n",
       "\n",
       "    6584_ew   6717_ew   6731_ew  BPT_class_n  WHAN_class_n  \n",
       "0  0.046599  0.074986  0.065604          1.0           1.0  \n",
       "1  0.029837  0.031059  0.029478          1.0           1.0  \n",
       "2  0.008986  0.012448  0.017423          3.0           3.0  \n",
       "3  0.036726  0.046145  0.032683          1.0           1.0  \n",
       "4  0.027402  0.041117  0.037154          2.0           2.0  "
      ]
     },
     "execution_count": 1,
     "metadata": {},
     "output_type": "execute_result"
    }
   ],
   "source": [
    "import pandas as pd\n",
    "import numpy as np\n",
    "import astropy\n",
    "\n",
    "df = pd.read_csv(\"Training_Data\")\n",
    "df.head(5)"
   ]
  },
  {
   "cell_type": "code",
   "execution_count": 13,
   "metadata": {},
   "outputs": [
    {
     "data": {
      "text/html": [
       "<div>\n",
       "<style scoped>\n",
       "    .dataframe tbody tr th:only-of-type {\n",
       "        vertical-align: middle;\n",
       "    }\n",
       "\n",
       "    .dataframe tbody tr th {\n",
       "        vertical-align: top;\n",
       "    }\n",
       "\n",
       "    .dataframe thead th {\n",
       "        text-align: right;\n",
       "    }\n",
       "</style>\n",
       "<table border=\"1\" class=\"dataframe\">\n",
       "  <thead>\n",
       "    <tr style=\"text-align: right;\">\n",
       "      <th></th>\n",
       "      <th>3727_ew</th>\n",
       "      <th>4340_ew</th>\n",
       "      <th>4861_ew</th>\n",
       "      <th>5007_ew</th>\n",
       "      <th>6300_ew</th>\n",
       "      <th>6548_ew</th>\n",
       "      <th>6563_ew</th>\n",
       "      <th>6584_ew</th>\n",
       "      <th>6717_ew</th>\n",
       "      <th>6731_ew</th>\n",
       "      <th>pad</th>\n",
       "      <th>pad</th>\n",
       "      <th>pad</th>\n",
       "      <th>pad</th>\n",
       "      <th>pad</th>\n",
       "      <th>pad</th>\n",
       "      <th>BPT_class_n</th>\n",
       "      <th>WHAN_class_n</th>\n",
       "    </tr>\n",
       "  </thead>\n",
       "  <tbody>\n",
       "    <tr>\n",
       "      <th>0</th>\n",
       "      <td>0.030808</td>\n",
       "      <td>0.030655</td>\n",
       "      <td>0.026629</td>\n",
       "      <td>0.001293</td>\n",
       "      <td>0.014095</td>\n",
       "      <td>0.045860</td>\n",
       "      <td>0.025267</td>\n",
       "      <td>0.046599</td>\n",
       "      <td>0.074986</td>\n",
       "      <td>0.065604</td>\n",
       "      <td>0.0</td>\n",
       "      <td>0.0</td>\n",
       "      <td>0.0</td>\n",
       "      <td>0.0</td>\n",
       "      <td>0.0</td>\n",
       "      <td>0.0</td>\n",
       "      <td>1.0</td>\n",
       "      <td>1.0</td>\n",
       "    </tr>\n",
       "    <tr>\n",
       "      <th>1</th>\n",
       "      <td>0.013793</td>\n",
       "      <td>0.018258</td>\n",
       "      <td>0.013510</td>\n",
       "      <td>0.000406</td>\n",
       "      <td>0.005669</td>\n",
       "      <td>0.029088</td>\n",
       "      <td>0.015353</td>\n",
       "      <td>0.029837</td>\n",
       "      <td>0.031059</td>\n",
       "      <td>0.029478</td>\n",
       "      <td>0.0</td>\n",
       "      <td>0.0</td>\n",
       "      <td>0.0</td>\n",
       "      <td>0.0</td>\n",
       "      <td>0.0</td>\n",
       "      <td>0.0</td>\n",
       "      <td>1.0</td>\n",
       "      <td>1.0</td>\n",
       "    </tr>\n",
       "    <tr>\n",
       "      <th>2</th>\n",
       "      <td>0.017046</td>\n",
       "      <td>0.008371</td>\n",
       "      <td>0.002693</td>\n",
       "      <td>0.000362</td>\n",
       "      <td>0.002655</td>\n",
       "      <td>0.008218</td>\n",
       "      <td>0.002348</td>\n",
       "      <td>0.008986</td>\n",
       "      <td>0.012448</td>\n",
       "      <td>0.017423</td>\n",
       "      <td>0.0</td>\n",
       "      <td>0.0</td>\n",
       "      <td>0.0</td>\n",
       "      <td>0.0</td>\n",
       "      <td>0.0</td>\n",
       "      <td>0.0</td>\n",
       "      <td>3.0</td>\n",
       "      <td>3.0</td>\n",
       "    </tr>\n",
       "    <tr>\n",
       "      <th>3</th>\n",
       "      <td>0.016552</td>\n",
       "      <td>0.029405</td>\n",
       "      <td>0.021914</td>\n",
       "      <td>0.001000</td>\n",
       "      <td>0.005681</td>\n",
       "      <td>0.035990</td>\n",
       "      <td>0.020421</td>\n",
       "      <td>0.036726</td>\n",
       "      <td>0.046145</td>\n",
       "      <td>0.032683</td>\n",
       "      <td>0.0</td>\n",
       "      <td>0.0</td>\n",
       "      <td>0.0</td>\n",
       "      <td>0.0</td>\n",
       "      <td>0.0</td>\n",
       "      <td>0.0</td>\n",
       "      <td>1.0</td>\n",
       "      <td>1.0</td>\n",
       "    </tr>\n",
       "    <tr>\n",
       "      <th>4</th>\n",
       "      <td>0.036596</td>\n",
       "      <td>0.015593</td>\n",
       "      <td>0.014583</td>\n",
       "      <td>0.007104</td>\n",
       "      <td>0.023544</td>\n",
       "      <td>0.026653</td>\n",
       "      <td>0.011565</td>\n",
       "      <td>0.027402</td>\n",
       "      <td>0.041117</td>\n",
       "      <td>0.037154</td>\n",
       "      <td>0.0</td>\n",
       "      <td>0.0</td>\n",
       "      <td>0.0</td>\n",
       "      <td>0.0</td>\n",
       "      <td>0.0</td>\n",
       "      <td>0.0</td>\n",
       "      <td>2.0</td>\n",
       "      <td>2.0</td>\n",
       "    </tr>\n",
       "  </tbody>\n",
       "</table>\n",
       "</div>"
      ],
      "text/plain": [
       "    3727_ew   4340_ew   4861_ew   5007_ew   6300_ew   6548_ew   6563_ew  \\\n",
       "0  0.030808  0.030655  0.026629  0.001293  0.014095  0.045860  0.025267   \n",
       "1  0.013793  0.018258  0.013510  0.000406  0.005669  0.029088  0.015353   \n",
       "2  0.017046  0.008371  0.002693  0.000362  0.002655  0.008218  0.002348   \n",
       "3  0.016552  0.029405  0.021914  0.001000  0.005681  0.035990  0.020421   \n",
       "4  0.036596  0.015593  0.014583  0.007104  0.023544  0.026653  0.011565   \n",
       "\n",
       "    6584_ew   6717_ew   6731_ew  pad  pad  pad  pad  pad  pad  BPT_class_n  \\\n",
       "0  0.046599  0.074986  0.065604  0.0  0.0  0.0  0.0  0.0  0.0          1.0   \n",
       "1  0.029837  0.031059  0.029478  0.0  0.0  0.0  0.0  0.0  0.0          1.0   \n",
       "2  0.008986  0.012448  0.017423  0.0  0.0  0.0  0.0  0.0  0.0          3.0   \n",
       "3  0.036726  0.046145  0.032683  0.0  0.0  0.0  0.0  0.0  0.0          1.0   \n",
       "4  0.027402  0.041117  0.037154  0.0  0.0  0.0  0.0  0.0  0.0          2.0   \n",
       "\n",
       "   WHAN_class_n  \n",
       "0           1.0  \n",
       "1           1.0  \n",
       "2           3.0  \n",
       "3           1.0  \n",
       "4           2.0  "
      ]
     },
     "execution_count": 13,
     "metadata": {},
     "output_type": "execute_result"
    }
   ],
   "source": [
    "mat = df.values[:,:-2]\n",
    "zeros = np.zeros((mat.shape[0],6),dtype=\"float32\")\n",
    "mat = np.concatenate([mat,zeros], axis=1)\n",
    "mat = np.concatenate([mat,df.values[:,-2:]], axis=1)\n",
    "\n",
    "features = []\n",
    "count = 0\n",
    "for i in df.columns:\n",
    "    if count == 10:\n",
    "        break\n",
    "    else:\n",
    "        features.append(i)\n",
    "        count += 1\n",
    "for i in range(zeros.shape[1]):\n",
    "    features.append(\"pad\")\n",
    "features.append('BPT_class_n')\n",
    "features.append('WHAN_class_n')\n",
    "\n",
    "df = pd.DataFrame(data = mat, columns = features)\n",
    "\n",
    "df.head(5)\n"
   ]
  },
  {
   "cell_type": "code",
   "execution_count": 14,
   "metadata": {},
   "outputs": [],
   "source": [
    "df.to_csv(\"Training_Data\", index=False)"
   ]
  },
  {
   "cell_type": "code",
   "execution_count": null,
   "metadata": {},
   "outputs": [],
   "source": []
  },
  {
   "cell_type": "code",
   "execution_count": null,
   "metadata": {},
   "outputs": [],
   "source": [
    "line_list = [3727, 3869, 4101, 4340, 4363, 4471, 4861, 4959, 5007, 6300, 6548, \\\n",
    "             6563, 6584, 6717, 6731]\n",
    "features = np.array([sample[str(line)+'_ew'].data.data for line in line_list])\n"
   ]
  },
  {
   "cell_type": "code",
   "execution_count": 61,
   "metadata": {},
   "outputs": [],
   "source": [
    "from astropy.table import Table\n",
    "\n",
    "df = Table.read('DR7_lines_ML1.fits')\n",
    "\n"
   ]
  },
  {
   "cell_type": "code",
   "execution_count": 62,
   "metadata": {},
   "outputs": [],
   "source": [
    "df = df[df[\"scienceprimary\"] == 1]\n",
    "df = df[df[\"WHAN_flag\"] == True]\n",
    "df = df[df[\"BPT_flag\"] == True]\n"
   ]
  },
  {
   "cell_type": "code",
   "execution_count": 63,
   "metadata": {},
   "outputs": [
    {
     "data": {
      "text/html": [
       "<i>Table masked=True length=305432</i>\n",
       "<table id=\"table139780082708432\" class=\"table-striped table-bordered table-condensed\">\n",
       "<thead><tr><th>objid</th><th>specobjid</th><th>bestobjid</th><th>mjd</th><th>plate</th><th>fiberID</th><th>ra</th><th>dec</th><th>z</th><th>scienceprimary</th><th>primTarget</th><th>petromag_u</th><th>petromag_g</th><th>petromag_r</th><th>petromag_i</th><th>petromag_z</th><th>match_ID_1</th><th>IDint</th><th>FUV</th><th>NUV</th><th>u_abs_GALEX+SDSS</th><th>g_abs_GALEX+SDSS</th><th>r_abs_GALEX+SDSS</th><th>i_abs_GALEX+SDSS</th><th>z_abs_GALEX+SDSS</th><th>mass_corr</th><th>atflux</th><th>u_abs</th><th>g_abs</th><th>r_abs</th><th>i_abs</th><th>z_abs</th><th>atmass</th><th>aZflux</th><th>aZmass</th><th>AV</th><th>vd</th><th>vd_err</th><th>NVOTE</th><th>P_EL</th><th>P_CW</th><th>P_ACW</th><th>P_EDGE</th><th>P_DK</th><th>P_MG</th><th>P_CS</th><th>P_EL_DEBIASED</th><th>P_CS_DEBIASED</th><th>SPIRAL</th><th>ELLIPTICAL</th><th>UNCERTAIN</th><th>3727_flux</th><th>3727_flux_error</th><th>3727_ew</th><th>3727_ew_error</th><th>3727_vd</th><th>3727_vd_error</th><th>3727_v0</th><th>3727_v0_error</th><th>3727_sn</th><th>3727_fc</th><th>3727_fc_error</th><th>3869_flux</th><th>3869_flux_error</th><th>3869_ew</th><th>3869_ew_error</th><th>3869_vd</th><th>3869_vd_error</th><th>3869_v0</th><th>3869_v0_error</th><th>3869_sn</th><th>3869_fc</th><th>3869_fc_error</th><th>4101_flux</th><th>4101_flux_error</th><th>4101_ew</th><th>4101_ew_error</th><th>4101_vd</th><th>4101_vd_error</th><th>4101_v0</th><th>4101_v0_error</th><th>4101_sn</th><th>4101_fc</th><th>4101_fc_error</th><th>4340_flux</th><th>4340_flux_error</th><th>4340_ew</th><th>4340_ew_error</th><th>4340_vd</th><th>4340_vd_error</th><th>4340_v0</th><th>4340_v0_error</th><th>4340_sn</th><th>4340_fc</th><th>4340_fc_error</th><th>4363_flux</th><th>4363_flux_error</th><th>4363_ew</th><th>4363_ew_error</th><th>4363_vd</th><th>4363_vd_error</th><th>4363_v0</th><th>4363_v0_error</th><th>4363_sn</th><th>4363_fc</th><th>4363_fc_error</th><th>4471_flux</th><th>4471_flux_error</th><th>4471_ew</th><th>4471_ew_error</th><th>4471_vd</th><th>4471_vd_error</th><th>4471_v0</th><th>4471_v0_error</th><th>4471_sn</th><th>4471_fc</th><th>4471_fc_error</th><th>4861_flux</th><th>4861_flux_error</th><th>4861_ew</th><th>4861_ew_error</th><th>4861_vd</th><th>4861_vd_error</th><th>4861_v0</th><th>4861_v0_error</th><th>4861_sn</th><th>4861_fc</th><th>4861_fc_error</th><th>4959_flux</th><th>4959_flux_error</th><th>4959_ew</th><th>4959_ew_error</th><th>4959_vd</th><th>4959_vd_error</th><th>4959_v0</th><th>4959_v0_error</th><th>4959_sn</th><th>4959_fc</th><th>4959_fc_error</th><th>5007_flux</th><th>5007_flux_error</th><th>5007_ew</th><th>5007_ew_error</th><th>5007_vd</th><th>5007_vd_error</th><th>5007_v0</th><th>5007_v0_error</th><th>5007_sn</th><th>5007_fc</th><th>5007_fc_error</th><th>6300_flux</th><th>6300_flux_error</th><th>6300_ew</th><th>6300_ew_error</th><th>6300_vd</th><th>6300_vd_error</th><th>6300_v0</th><th>6300_v0_error</th><th>6300_sn</th><th>6300_fc</th><th>6300_fc_error</th><th>6548_flux</th><th>6548_flux_error</th><th>6548_ew</th><th>6548_ew_error</th><th>6548_vd</th><th>6548_vd_error</th><th>6548_v0</th><th>6548_v0_error</th><th>6548_sn</th><th>6548_fc</th><th>6548_fc_error</th><th>6563_flux</th><th>6563_flux_error</th><th>6563_ew</th><th>6563_ew_error</th><th>6563_vd</th><th>6563_vd_error</th><th>6563_v0</th><th>6563_v0_error</th><th>6563_sn</th><th>6563_fc</th><th>6563_fc_error</th><th>6584_flux</th><th>6584_flux_error</th><th>6584_ew</th><th>6584_ew_error</th><th>6584_vd</th><th>6584_vd_error</th><th>6584_v0</th><th>6584_v0_error</th><th>6584_sn</th><th>6584_fc</th><th>6584_fc_error</th><th>6717_flux</th><th>6717_flux_error</th><th>6717_ew</th><th>6717_ew_error</th><th>6717_vd</th><th>6717_vd_error</th><th>6717_v0</th><th>6717_v0_error</th><th>6717_sn</th><th>6717_fc</th><th>6717_fc_error</th><th>6731_flux</th><th>6731_flux_error</th><th>6731_ew</th><th>6731_ew_error</th><th>6731_vd</th><th>6731_vd_error</th><th>6731_v0</th><th>6731_v0_error</th><th>6731_sn</th><th>6731_fc</th><th>6731_fc_error</th><th>BPT_class</th><th>BPT_flag</th><th>WHAN_class</th><th>WHAN_flag</th><th>BPT_class_n</th><th>WHAN_class_n</th></tr></thead>\n",
       "<thead><tr><th>int64</th><th>int64</th><th>int64</th><th>int32</th><th>int16</th><th>int16</th><th>float64</th><th>float64</th><th>float32</th><th>int16</th><th>int32</th><th>float32</th><th>float32</th><th>float32</th><th>float32</th><th>float32</th><th>bytes12</th><th>int64</th><th>float64</th><th>float64</th><th>float64</th><th>float64</th><th>float64</th><th>float64</th><th>float64</th><th>float64</th><th>float64</th><th>float64</th><th>float64</th><th>float64</th><th>float64</th><th>float64</th><th>float64</th><th>float64</th><th>float64</th><th>float64</th><th>float32</th><th>float32</th><th>int16</th><th>float32</th><th>float32</th><th>float32</th><th>float32</th><th>float32</th><th>float32</th><th>float32</th><th>float32</th><th>float32</th><th>int16</th><th>int16</th><th>int16</th><th>float64</th><th>float64</th><th>float64</th><th>float64</th><th>float64</th><th>float64</th><th>float64</th><th>float64</th><th>float64</th><th>float64</th><th>float64</th><th>float64</th><th>float64</th><th>float64</th><th>float64</th><th>float64</th><th>float64</th><th>float64</th><th>float64</th><th>float64</th><th>float64</th><th>float64</th><th>float64</th><th>float64</th><th>float64</th><th>float64</th><th>float64</th><th>float64</th><th>float64</th><th>float64</th><th>float64</th><th>float64</th><th>float64</th><th>float64</th><th>float64</th><th>float64</th><th>float64</th><th>float64</th><th>float64</th><th>float64</th><th>float64</th><th>float64</th><th>float64</th><th>float64</th><th>float64</th><th>float64</th><th>float64</th><th>float64</th><th>float64</th><th>float64</th><th>float64</th><th>float64</th><th>float64</th><th>float64</th><th>float64</th><th>float64</th><th>float64</th><th>float64</th><th>float64</th><th>float64</th><th>float64</th><th>float64</th><th>float64</th><th>float64</th><th>float64</th><th>float64</th><th>float64</th><th>float64</th><th>float64</th><th>float64</th><th>float64</th><th>float64</th><th>float64</th><th>float64</th><th>float64</th><th>float64</th><th>float64</th><th>float64</th><th>float64</th><th>float64</th><th>float64</th><th>float64</th><th>float64</th><th>float64</th><th>float64</th><th>float64</th><th>float64</th><th>float64</th><th>float64</th><th>float64</th><th>float64</th><th>float64</th><th>float64</th><th>float64</th><th>float64</th><th>float64</th><th>float64</th><th>float64</th><th>float64</th><th>float64</th><th>float64</th><th>float64</th><th>float64</th><th>float64</th><th>float64</th><th>float64</th><th>float64</th><th>float64</th><th>float64</th><th>float64</th><th>float64</th><th>float64</th><th>float64</th><th>float64</th><th>float64</th><th>float64</th><th>float64</th><th>float64</th><th>float64</th><th>float64</th><th>float64</th><th>float64</th><th>float64</th><th>float64</th><th>float64</th><th>float64</th><th>float64</th><th>float64</th><th>float64</th><th>float64</th><th>float64</th><th>float64</th><th>float64</th><th>float64</th><th>float64</th><th>float64</th><th>float64</th><th>float64</th><th>float64</th><th>float64</th><th>float64</th><th>float64</th><th>float64</th><th>float64</th><th>float64</th><th>float64</th><th>float64</th><th>float64</th><th>float64</th><th>float64</th><th>float64</th><th>float64</th><th>float64</th><th>float64</th><th>float64</th><th>float64</th><th>float64</th><th>float64</th><th>float64</th><th>float64</th><th>float64</th><th>float64</th><th>float64</th><th>float64</th><th>float64</th><th>bytes64</th><th>bool</th><th>bytes64</th><th>bool</th><th>int64</th><th>int64</th></tr></thead>\n",
       "<tr><td>587722981742936283</td><td>94235951986900992</td><td>587722981742936283</td><td>51993</td><td>334</td><td>365</td><td>186.59411361</td><td>-1.25504627</td><td>0.00658881</td><td>1</td><td>64</td><td>17.669477</td><td>16.867973</td><td>16.676758</td><td>16.831087</td><td>17.241415</td><td>33451993365</td><td>33451993365</td><td>nan</td><td>nan</td><td>nan</td><td>nan</td><td>nan</td><td>nan</td><td>nan</td><td>7.007699966430664</td><td>6.622799873352051</td><td>-14.505390167236328</td><td>-15.348320007324219</td><td>-15.639920234680176</td><td>-14.95796012878418</td><td>-16.02869987487793</td><td>6.633900165557861</td><td>0.6843000054359436</td><td>0.3472999930381775</td><td>0.8629999756813049</td><td>0.0</td><td>19.510744</td><td>--</td><td>nan</td><td>nan</td><td>nan</td><td>nan</td><td>nan</td><td>nan</td><td>nan</td><td>nan</td><td>nan</td><td>--</td><td>--</td><td>--</td><td>-999.0</td><td>-999.0</td><td>-999.0</td><td>-999.0</td><td>-999.0</td><td>-999.0</td><td>-999.0</td><td>-999.0</td><td>0.0</td><td>7.396</td><td>0.134</td><td>215.168</td><td>9.04</td><td>26.976</td><td>1.177</td><td>95.606</td><td>2.97</td><td>-46.738</td><td>2.968</td><td>22.818</td><td>7.976</td><td>0.094</td><td>169.081</td><td>7.032</td><td>22.177</td><td>1.004</td><td>81.345</td><td>2.549</td><td>7.077</td><td>2.547</td><td>24.754</td><td>7.624</td><td>0.137</td><td>299.694</td><td>4.593</td><td>45.339</td><td>1.005</td><td>81.345</td><td>0.954</td><td>7.077</td><td>0.954</td><td>67.02</td><td>6.61</td><td>0.106</td><td>-999.0</td><td>43.18</td><td>5.276</td><td>6.855</td><td>76.231</td><td>70.864</td><td>2.805</td><td>71.307</td><td>0.749</td><td>6.304</td><td>0.311</td><td>-999.0</td><td>-999.0</td><td>-999.0</td><td>-999.0</td><td>-999.0</td><td>-999.0</td><td>-999.0</td><td>-999.0</td><td>0.243</td><td>5.866</td><td>0.039</td><td>721.57</td><td>4.182</td><td>131.906</td><td>1.041</td><td>81.345</td><td>0.343</td><td>7.077</td><td>0.343</td><td>167.521</td><td>5.47</td><td>0.029</td><td>920.525</td><td>7.532</td><td>184.657</td><td>2.104</td><td>76.231</td><td>0.468</td><td>2.805</td><td>0.468</td><td>125.553</td><td>4.985</td><td>0.04</td><td>2760.385</td><td>16.458</td><td>553.732</td><td>5.495</td><td>76.231</td><td>0.344</td><td>2.805</td><td>0.344</td><td>167.321</td><td>4.985</td><td>0.04</td><td>24.054</td><td>4.108</td><td>7.849</td><td>1.343</td><td>85.656</td><td>11.166</td><td>23.864</td><td>11.166</td><td>5.902</td><td>3.065</td><td>0.032</td><td>21.407</td><td>2.061</td><td>7.484</td><td>0.724</td><td>80.285</td><td>7.586</td><td>8.634</td><td>7.586</td><td>9.335</td><td>2.861</td><td>0.026</td><td>2160.978</td><td>11.464</td><td>752.686</td><td>7.989</td><td>81.345</td><td>0.327</td><td>7.077</td><td>0.327</td><td>188.862</td><td>2.871</td><td>0.026</td><td>64.568</td><td>1.923</td><td>22.375</td><td>0.697</td><td>80.285</td><td>1.744</td><td>8.634</td><td>1.744</td><td>33.694</td><td>2.886</td><td>0.026</td><td>125.606</td><td>4.493</td><td>46.177</td><td>1.694</td><td>80.126</td><td>2.166</td><td>11.732</td><td>2.166</td><td>27.941</td><td>2.72</td><td>0.022</td><td>91.762</td><td>4.45</td><td>33.587</td><td>1.651</td><td>80.126</td><td>2.941</td><td>11.732</td><td>2.941</td><td>20.627</td><td>2.732</td><td>0.022</td><td>SF</td><td>True</td><td>SF</td><td>True</td><td>1</td><td>1</td></tr>\n",
       "<tr><td>587724648181465292</td><td>92548342076145664</td><td>587724648181465292</td><td>52282</td><td>328</td><td>56</td><td>175.88640661</td><td>-3.33052913</td><td>0.117932</td><td>1</td><td>64</td><td>19.203558</td><td>18.1221</td><td>17.528784</td><td>17.194675</td><td>16.958761</td><td>3285228256</td><td>32852282056</td><td>-17.76005</td><td>-19.06408</td><td>-19.76519</td><td>-20.80275</td><td>-21.27956</td><td>-21.49423</td><td>-21.70568</td><td>11.071499824523926</td><td>8.315799713134766</td><td>-19.74271011352539</td><td>-20.818239212036133</td><td>-21.289220809936523</td><td>-21.531810760498047</td><td>-21.747390747070312</td><td>10.120499610900879</td><td>0.48190000653266907</td><td>1.4763000011444092</td><td>0.5699999928474426</td><td>112.32607</td><td>11.853966</td><td>62</td><td>0.468</td><td>0.097</td><td>0.016</td><td>0.306</td><td>0.113</td><td>0.0</td><td>0.419</td><td>0.114</td><td>0.714</td><td>0</td><td>0</td><td>1</td><td>164.664</td><td>5.574</td><td>12.214</td><td>0.626</td><td>199.801</td><td>4.727</td><td>-20.214</td><td>4.727</td><td>21.64</td><td>13.482</td><td>0.519</td><td>-999.0</td><td>-999.0</td><td>-999.0</td><td>-999.0</td><td>-999.0</td><td>-999.0</td><td>-999.0</td><td>-999.0</td><td>0.927</td><td>16.182</td><td>0.259</td><td>30.383</td><td>4.83</td><td>1.703</td><td>0.273</td><td>135.121</td><td>16.051</td><td>22.517</td><td>16.051</td><td>6.416</td><td>17.841</td><td>0.371</td><td>47.434</td><td>3.518</td><td>2.872</td><td>0.237</td><td>135.121</td><td>6.923</td><td>22.517</td><td>6.923</td><td>12.51</td><td>16.515</td><td>0.601</td><td>7.5</td><td>5.947</td><td>0.469</td><td>0.373</td><td>153.699</td><td>44.549</td><td>-7.377</td><td>44.972</td><td>1.136</td><td>15.983</td><td>1.029</td><td>10.187</td><td>4.19</td><td>0.554</td><td>0.228</td><td>168.43</td><td>50.497</td><td>65.464</td><td>50.497</td><td>1.943</td><td>18.39</td><td>0.211</td><td>129.619</td><td>4.345</td><td>6.951</td><td>0.24</td><td>135.121</td><td>3.12</td><td>22.517</td><td>3.12</td><td>26.422</td><td>18.647</td><td>0.157</td><td>13.604</td><td>3.721</td><td>0.763</td><td>0.209</td><td>153.699</td><td>34.748</td><td>-7.377</td><td>34.748</td><td>3.11</td><td>17.827</td><td>0.415</td><td>40.795</td><td>3.849</td><td>2.288</td><td>0.222</td><td>153.699</td><td>10.433</td><td>-7.377</td><td>10.433</td><td>9.435</td><td>17.827</td><td>0.415</td><td>22.523</td><td>3.033</td><td>1.353</td><td>0.183</td><td>119.705</td><td>11.842</td><td>12.707</td><td>11.842</td><td>7.0</td><td>16.642</td><td>0.219</td><td>73.833</td><td>5.055</td><td>4.307</td><td>0.302</td><td>128.12</td><td>6.381</td><td>20.998</td><td>6.381</td><td>14.993</td><td>17.141</td><td>0.255</td><td>606.41</td><td>14.079</td><td>35.243</td><td>0.971</td><td>135.121</td><td>2.32</td><td>22.517</td><td>2.32</td><td>40.15</td><td>17.206</td><td>0.255</td><td>222.698</td><td>6.548</td><td>12.875</td><td>0.423</td><td>128.12</td><td>2.733</td><td>20.998</td><td>2.733</td><td>29.929</td><td>17.297</td><td>0.255</td><td>104.098</td><td>4.372</td><td>6.185</td><td>0.263</td><td>128.129</td><td>4.008</td><td>27.247</td><td>4.008</td><td>21.707</td><td>16.832</td><td>0.118</td><td>85.777</td><td>3.509</td><td>5.074</td><td>0.211</td><td>128.129</td><td>3.738</td><td>27.247</td><td>3.738</td><td>22.189</td><td>16.906</td><td>0.118</td><td>SF</td><td>True</td><td>SF</td><td>True</td><td>1</td><td>1</td></tr>\n",
       "<tr><td>587724648181465285</td><td>92548342071951360</td><td>587724648181465285</td><td>52282</td><td>328</td><td>55</td><td>175.85997617</td><td>-3.33057377</td><td>0.118579</td><td>1</td><td>64</td><td>18.842936</td><td>17.533787</td><td>16.81362</td><td>16.391867</td><td>16.202139</td><td>3285228255</td><td>32852282055</td><td>-17.65069</td><td>-19.11244</td><td>-20.25592</td><td>-21.47399</td><td>-22.04872</td><td>-22.2948</td><td>-22.50323</td><td>11.322500228881836</td><td>8.517600059509277</td><td>-20.217330932617188</td><td>-21.49725914001465</td><td>-22.059579849243164</td><td>-22.348730087280273</td><td>-22.536550521850586</td><td>10.112199783325195</td><td>0.593999981880188</td><td>1.7617000341415405</td><td>0.49399998784065247</td><td>146.21289</td><td>7.183253</td><td>32</td><td>0.75</td><td>0.031</td><td>0.031</td><td>0.094</td><td>0.094</td><td>0.0</td><td>0.156</td><td>0.672</td><td>0.23</td><td>0</td><td>0</td><td>1</td><td>147.162</td><td>5.73</td><td>5.567</td><td>0.317</td><td>224.505</td><td>5.862</td><td>-79.303</td><td>5.862</td><td>16.855</td><td>26.436</td><td>1.096</td><td>34.009</td><td>7.122</td><td>1.059</td><td>0.223</td><td>341.536</td><td>48.526</td><td>-263.464</td><td>48.526</td><td>2.319</td><td>32.111</td><td>0.671</td><td>31.123</td><td>4.821</td><td>0.832</td><td>0.13</td><td>149.401</td><td>13.988</td><td>12.644</td><td>13.988</td><td>5.875</td><td>37.411</td><td>0.846</td><td>61.269</td><td>5.371</td><td>1.751</td><td>0.175</td><td>149.401</td><td>9.354</td><td>12.644</td><td>9.354</td><td>11.049</td><td>34.981</td><td>1.675</td><td>-999.0</td><td>-999.0</td><td>-999.0</td><td>-999.0</td><td>-999.0</td><td>-999.0</td><td>-999.0</td><td>-999.0</td><td>0.0</td><td>34.072</td><td>2.299</td><td>5.542</td><td>4.362</td><td>0.136</td><td>0.107</td><td>51.465</td><td>31.619</td><td>-22.228</td><td>29.851</td><td>1.282</td><td>40.863</td><td>0.552</td><td>150.219</td><td>6.533</td><td>3.59</td><td>0.16</td><td>149.401</td><td>4.631</td><td>12.644</td><td>4.631</td><td>19.868</td><td>41.842</td><td>0.402</td><td>10.314</td><td>5.526</td><td>0.258</td><td>0.139</td><td>136.368</td><td>41.997</td><td>-36.621</td><td>41.997</td><td>2.272</td><td>39.92</td><td>0.998</td><td>30.928</td><td>5.711</td><td>0.775</td><td>0.144</td><td>136.368</td><td>19.26</td><td>-36.621</td><td>19.26</td><td>5.062</td><td>39.92</td><td>0.998</td><td>22.904</td><td>4.6</td><td>0.604</td><td>0.121</td><td>149.642</td><td>22.632</td><td>-22.329</td><td>22.632</td><td>4.562</td><td>37.94</td><td>0.502</td><td>108.063</td><td>7.33</td><td>2.764</td><td>0.192</td><td>160.492</td><td>8.651</td><td>16.721</td><td>8.651</td><td>11.583</td><td>39.095</td><td>0.587</td><td>843.392</td><td>23.905</td><td>21.491</td><td>0.689</td><td>149.401</td><td>3.134</td><td>12.644</td><td>3.134</td><td>31.931</td><td>39.244</td><td>0.587</td><td>325.942</td><td>11.828</td><td>8.262</td><td>0.324</td><td>160.492</td><td>4.214</td><td>16.721</td><td>4.214</td><td>22.264</td><td>39.451</td><td>0.587</td><td>100.871</td><td>5.969</td><td>2.621</td><td>0.156</td><td>166.929</td><td>7.106</td><td>0.963</td><td>7.106</td><td>13.84</td><td>38.486</td><td>0.245</td><td>90.276</td><td>6.829</td><td>2.335</td><td>0.177</td><td>166.929</td><td>9.384</td><td>0.963</td><td>9.384</td><td>11.536</td><td>38.656</td><td>0.245</td><td>SF</td><td>True</td><td>SF</td><td>True</td><td>1</td><td>1</td></tr>\n",
       "<tr><td>587724648181465208</td><td>92828847405268992</td><td>587724648181465208</td><td>52056</td><td>329</td><td>298</td><td>175.87196307</td><td>-3.3334062</td><td>0.117693</td><td>1</td><td>64</td><td>19.907045</td><td>18.269436</td><td>17.331242</td><td>16.91667</td><td>16.5972</td><td>32952056298</td><td>32952056298</td><td>-17.79227</td><td>-18.11509</td><td>-19.21933</td><td>-20.82346</td><td>-21.52259</td><td>-21.84344</td><td>-22.09395</td><td>11.072999954223633</td><td>9.378999710083008</td><td>-19.267919540405273</td><td>-20.829999923706055</td><td>-21.544309616088867</td><td>-21.86417007446289</td><td>-22.14579963684082</td><td>10.018400192260742</td><td>1.3299000263214111</td><td>1.3854999542236328</td><td>0.19099999964237213</td><td>158.78934</td><td>12.902387</td><td>29</td><td>0.103</td><td>0.034</td><td>0.138</td><td>0.69</td><td>0.034</td><td>0.0</td><td>0.862</td><td>0.026</td><td>0.937</td><td>1</td><td>0</td><td>0</td><td>68.468</td><td>5.317</td><td>6.838</td><td>0.689</td><td>212.115</td><td>11.242</td><td>12.125</td><td>11.242</td><td>8.743</td><td>10.013</td><td>0.644</td><td>-999.0</td><td>-999.0</td><td>-999.0</td><td>-999.0</td><td>-999.0</td><td>-999.0</td><td>-999.0</td><td>-999.0</td><td>0.577</td><td>10.038</td><td>0.526</td><td>6.467</td><td>-5.222</td><td>0.42</td><td>0.339</td><td>152.997</td><td>27.813</td><td>-35.864</td><td>26.814</td><td>1.162</td><td>15.406</td><td>0.442</td><td>13.567</td><td>5.277</td><td>0.857</td><td>0.345</td><td>152.997</td><td>35.083</td><td>-35.864</td><td>35.082</td><td>1.921</td><td>15.827</td><td>1.667</td><td>-999.0</td><td>-3.807</td><td>0.122</td><td>0.233</td><td>87.435</td><td>62.385</td><td>-19.841</td><td>80.288</td><td>0.563</td><td>16.36</td><td>1.543</td><td>-999.0</td><td>7.721</td><td>0.257</td><td>0.349</td><td>157.016</td><td>189.529</td><td>91.671</td><td>189.529</td><td>0.695</td><td>22.127</td><td>0.515</td><td>19.486</td><td>4.814</td><td>0.819</td><td>0.203</td><td>152.997</td><td>26.855</td><td>-35.864</td><td>26.855</td><td>3.884</td><td>23.806</td><td>0.354</td><td>5.316</td><td>-3.499</td><td>0.233</td><td>0.154</td><td>87.435</td><td>19.131</td><td>-19.841</td><td>19.41</td><td>2.175</td><td>22.772</td><td>0.78</td><td>15.941</td><td>5.18</td><td>0.7</td><td>0.229</td><td>87.435</td><td>20.62</td><td>-19.841</td><td>20.62</td><td>3.623</td><td>22.772</td><td>0.78</td><td>7.774</td><td>3.628</td><td>0.336</td><td>0.157</td><td>75.555</td><td>27.211</td><td>-7.896</td><td>27.211</td><td>2.159</td><td>23.169</td><td>0.387</td><td>20.384</td><td>6.912</td><td>0.844</td><td>0.287</td><td>163.358</td><td>34.8</td><td>-37.217</td><td>34.8</td><td>3.01</td><td>24.141</td><td>0.444</td><td>83.612</td><td>6.244</td><td>3.45</td><td>0.265</td><td>152.997</td><td>7.928</td><td>-35.864</td><td>7.928</td><td>10.453</td><td>24.233</td><td>0.444</td><td>61.481</td><td>6.512</td><td>2.524</td><td>0.271</td><td>163.358</td><td>12.484</td><td>-37.217</td><td>12.484</td><td>6.916</td><td>24.361</td><td>0.444</td><td>26.392</td><td>4.589</td><td>1.111</td><td>0.193</td><td>130.458</td><td>15.401</td><td>-26.516</td><td>15.401</td><td>4.865</td><td>23.753</td><td>0.166</td><td>33.891</td><td>6.747</td><td>1.421</td><td>0.283</td><td>130.458</td><td>19.917</td><td>-26.516</td><td>19.917</td><td>5.294</td><td>23.857</td><td>0.166</td><td>Composite</td><td>True</td><td>wAGN</td><td>True</td><td>3</td><td>3</td></tr>\n",
       "<tr><td>587724648185397285</td><td>93955850418257920</td><td>587724648185397285</td><td>52313</td><td>333</td><td>131</td><td>184.7934109</td><td>-3.46636802</td><td>0.115934</td><td>1</td><td>64</td><td>18.951523</td><td>17.802795</td><td>17.195734</td><td>16.875319</td><td>16.663773</td><td>33352313131</td><td>33352313131</td><td>-18.53343</td><td>-19.26929</td><td>-20.09923</td><td>-21.15856</td><td>-21.62098</td><td>-21.78276</td><td>-21.96772</td><td>10.7701997756958</td><td>8.389300346374512</td><td>-20.077550888061523</td><td>-21.168310165405273</td><td>-21.62405014038086</td><td>-21.855470657348633</td><td>-22.0303897857666</td><td>9.54640007019043</td><td>0.7925000190734863</td><td>1.1842999458312988</td><td>0.5059999823570251</td><td>86.79675</td><td>8.868997</td><td>31</td><td>0.516</td><td>0.0</td><td>0.0</td><td>0.097</td><td>0.355</td><td>0.032</td><td>0.097</td><td>0.461</td><td>0.136</td><td>0</td><td>0</td><td>1</td><td>141.528</td><td>7.957</td><td>6.645</td><td>0.509</td><td>169.902</td><td>6.876</td><td>-4.949</td><td>6.876</td><td>14.569</td><td>21.297</td><td>1.107</td><td>27.677</td><td>5.394</td><td>0.986</td><td>0.193</td><td>92.243</td><td>13.407</td><td>-27.735</td><td>13.404</td><td>4.952</td><td>28.071</td><td>0.59</td><td>45.612</td><td>5.974</td><td>1.398</td><td>0.186</td><td>96.179</td><td>10.106</td><td>-14.241</td><td>10.106</td><td>8.584</td><td>32.616</td><td>0.814</td><td>84.239</td><td>4.796</td><td>2.759</td><td>0.2</td><td>96.179</td><td>4.107</td><td>-14.241</td><td>4.107</td><td>17.45</td><td>30.534</td><td>1.363</td><td>-999.0</td><td>-999.0</td><td>-999.0</td><td>-999.0</td><td>-999.0</td><td>-999.0</td><td>-999.0</td><td>-999.0</td><td>0.002</td><td>29.385</td><td>2.274</td><td>11.149</td><td>6.491</td><td>0.32</td><td>0.186</td><td>137.892</td><td>59.603</td><td>-29.972</td><td>59.603</td><td>1.552</td><td>34.891</td><td>0.529</td><td>205.66</td><td>4.942</td><td>5.743</td><td>0.15</td><td>96.179</td><td>1.712</td><td>-14.241</td><td>1.712</td><td>39.584</td><td>35.812</td><td>0.373</td><td>20.132</td><td>4.437</td><td>0.596</td><td>0.132</td><td>87.264</td><td>16.987</td><td>-11.933</td><td>16.987</td><td>4.399</td><td>33.764</td><td>0.92</td><td>60.369</td><td>4.343</td><td>1.788</td><td>0.138</td><td>87.264</td><td>4.685</td><td>-11.933</td><td>4.685</td><td>13.898</td><td>33.764</td><td>0.92</td><td>18.547</td><td>5.065</td><td>0.605</td><td>0.165</td><td>156.504</td><td>23.679</td><td>13.482</td><td>23.679</td><td>4.802</td><td>30.652</td><td>0.371</td><td>104.558</td><td>6.322</td><td>3.399</td><td>0.213</td><td>97.951</td><td>4.584</td><td>-14.583</td><td>4.584</td><td>17.187</td><td>30.766</td><td>0.495</td><td>880.797</td><td>9.647</td><td>28.521</td><td>0.554</td><td>96.179</td><td>0.794</td><td>-14.241</td><td>0.794</td><td>90.367</td><td>30.882</td><td>0.495</td><td>315.371</td><td>7.05</td><td>10.158</td><td>0.279</td><td>97.951</td><td>1.633</td><td>-14.583</td><td>1.633</td><td>43.091</td><td>31.045</td><td>0.495</td><td>116.739</td><td>4.118</td><td>3.845</td><td>0.139</td><td>96.887</td><td>2.564</td><td>-13.326</td><td>2.564</td><td>27.901</td><td>30.364</td><td>0.222</td><td>78.627</td><td>4.136</td><td>2.578</td><td>0.137</td><td>96.887</td><td>3.869</td><td>-13.326</td><td>3.869</td><td>18.942</td><td>30.498</td><td>0.222</td><td>SF</td><td>True</td><td>SF</td><td>True</td><td>1</td><td>1</td></tr>\n",
       "<tr><td>587724648183890049</td><td>93393136142778368</td><td>587724648183890049</td><td>52368</td><td>331</td><td>1</td><td>181.35710615</td><td>-3.54362402</td><td>0.124174</td><td>1</td><td>64</td><td>19.230757</td><td>17.63189</td><td>16.903933</td><td>16.510998</td><td>16.23778</td><td>331523681</td><td>33152368001</td><td>-18.49229</td><td>-18.77485</td><td>-20.09622</td><td>-21.54702</td><td>-22.09613</td><td>-22.30249</td><td>-22.58102</td><td>11.230400085449219</td><td>8.407699584960938</td><td>-20.097179412841797</td><td>-21.554710388183594</td><td>-22.107559204101562</td><td>-22.349140167236328</td><td>-22.625499725341797</td><td>9.924599647521973</td><td>0.9124000072479248</td><td>1.2024999856948853</td><td>0.5569999814033508</td><td>129.96701</td><td>14.419389</td><td>25</td><td>0.84</td><td>0.0</td><td>0.04</td><td>0.08</td><td>0.04</td><td>0.0</td><td>0.12</td><td>0.596</td><td>0.343</td><td>0</td><td>0</td><td>1</td><td>195.614</td><td>9.122</td><td>14.475</td><td>0.898</td><td>281.048</td><td>8.515</td><td>-0.889</td><td>8.515</td><td>11.87</td><td>13.514</td><td>0.552</td><td>22.076</td><td>7.64</td><td>1.468</td><td>0.509</td><td>123.909</td><td>31.16</td><td>-16.778</td><td>31.16</td><td>2.843</td><td>15.037</td><td>0.36</td><td>7.719</td><td>4.637</td><td>0.423</td><td>0.254</td><td>131.411</td><td>15.221</td><td>37.412</td><td>18.653</td><td>2.229</td><td>18.266</td><td>0.422</td><td>26.39</td><td>7.788</td><td>1.51</td><td>0.456</td><td>131.411</td><td>27.176</td><td>37.412</td><td>27.176</td><td>3.371</td><td>17.478</td><td>1.104</td><td>-999.0</td><td>-999.0</td><td>-999.0</td><td>-999.0</td><td>-999.0</td><td>-999.0</td><td>-999.0</td><td>-999.0</td><td>0.0</td><td>17.324</td><td>1.223</td><td>23.406</td><td>7.584</td><td>1.099</td><td>0.357</td><td>142.918</td><td>32.132</td><td>-50.606</td><td>32.132</td><td>2.49</td><td>21.291</td><td>0.364</td><td>85.982</td><td>7.217</td><td>3.865</td><td>0.328</td><td>131.411</td><td>8.36</td><td>37.412</td><td>8.36</td><td>11.359</td><td>22.244</td><td>0.261</td><td>86.979</td><td>5.861</td><td>4.108</td><td>0.346</td><td>161.689</td><td>4.49</td><td>-33.287</td><td>4.49</td><td>21.33</td><td>21.174</td><td>0.621</td><td>258.328</td><td>10.101</td><td>12.2</td><td>0.596</td><td>161.689</td><td>4.49</td><td>-33.287</td><td>4.49</td><td>21.33</td><td>21.174</td><td>0.621</td><td>45.603</td><td>5.831</td><td>2.193</td><td>0.282</td><td>222.897</td><td>20.923</td><td>-42.542</td><td>20.923</td><td>5.729</td><td>20.793</td><td>0.304</td><td>54.516</td><td>5.889</td><td>2.54</td><td>0.278</td><td>143.449</td><td>10.934</td><td>4.609</td><td>10.934</td><td>9.282</td><td>21.463</td><td>0.363</td><td>349.789</td><td>9.041</td><td>16.236</td><td>0.501</td><td>131.411</td><td>2.48</td><td>37.412</td><td>2.48</td><td>35.675</td><td>21.544</td><td>0.363</td><td>164.434</td><td>6.415</td><td>7.592</td><td>0.322</td><td>143.449</td><td>3.919</td><td>4.609</td><td>3.919</td><td>21.186</td><td>21.659</td><td>0.363</td><td>72.901</td><td>6.976</td><td>3.437</td><td>0.33</td><td>126.568</td><td>8.976</td><td>52.07</td><td>8.976</td><td>9.222</td><td>21.212</td><td>0.143</td><td>62.155</td><td>6.974</td><td>2.917</td><td>0.328</td><td>126.568</td><td>10.659</td><td>52.07</td><td>10.659</td><td>8.471</td><td>21.305</td><td>0.143</td><td>AGN</td><td>True</td><td>sAGN</td><td>True</td><td>2</td><td>2</td></tr>\n",
       "<tr><td>587724648183890036</td><td>93393136146972672</td><td>587724648183890036</td><td>52368</td><td>331</td><td>2</td><td>181.33361022</td><td>-3.37860674</td><td>0.086845</td><td>1</td><td>64</td><td>18.51275</td><td>17.333042</td><td>16.754374</td><td>16.466248</td><td>16.250002</td><td>331523682</td><td>33152368002</td><td>-18.63335</td><td>-19.00544</td><td>-19.79199</td><td>-20.87577</td><td>-21.36646</td><td>-21.51005</td><td>-21.7096</td><td>10.84220027923584</td><td>8.962499618530273</td><td>-19.770559310913086</td><td>-20.883319854736328</td><td>-21.358680725097656</td><td>-21.569839477539062</td><td>-21.758220672607422</td><td>9.913599967956543</td><td>0.8675000071525574</td><td>0.9740999937057495</td><td>0.30300000309944153</td><td>110.74398</td><td>18.6406</td><td>52</td><td>0.192</td><td>0.019</td><td>0.288</td><td>0.404</td><td>0.058</td><td>0.038</td><td>0.712</td><td>0.102</td><td>0.796</td><td>0</td><td>0</td><td>1</td><td>14.301</td><td>9.741</td><td>1.834</td><td>1.252</td><td>128.004</td><td>66.639</td><td>-7.042</td><td>66.639</td><td>1.427</td><td>7.798</td><td>0.373</td><td>-994.0</td><td>-999.0</td><td>-999.0</td><td>-999.0</td><td>-999.0</td><td>-999.0</td><td>-999.0</td><td>-999.0</td><td>1.585</td><td>8.192</td><td>0.258</td><td>10.94</td><td>6.674</td><td>1.056</td><td>0.645</td><td>107.094</td><td>45.685</td><td>8.987</td><td>45.689</td><td>1.474</td><td>10.364</td><td>0.273</td><td>-999.0</td><td>-999.0</td><td>-999.0</td><td>-999.0</td><td>-999.0</td><td>-999.0</td><td>-999.0</td><td>-999.0</td><td>0.229</td><td>10.041</td><td>0.805</td><td>-999.0</td><td>-999.0</td><td>-999.0</td><td>-999.0</td><td>-999.0</td><td>-999.0</td><td>-999.0</td><td>-999.0</td><td>0.0</td><td>10.137</td><td>0.812</td><td>-994.0</td><td>-999.0</td><td>-999.0</td><td>-999.0</td><td>-999.0</td><td>-999.0</td><td>-999.0</td><td>-999.0</td><td>1.229</td><td>12.659</td><td>0.232</td><td>22.633</td><td>4.402</td><td>1.699</td><td>0.331</td><td>107.094</td><td>14.655</td><td>8.987</td><td>14.655</td><td>4.866</td><td>13.323</td><td>0.169</td><td>-999.0</td><td>-999.0</td><td>-999.0</td><td>-999.0</td><td>-999.0</td><td>-999.0</td><td>-999.0</td><td>-999.0</td><td>0.05</td><td>12.712</td><td>0.401</td><td>15.613</td><td>4.393</td><td>1.228</td><td>0.348</td><td>145.29</td><td>26.128</td><td>30.751</td><td>26.128</td><td>3.455</td><td>12.712</td><td>0.401</td><td>-999.0</td><td>-999.0</td><td>-999.0</td><td>-999.0</td><td>-999.0</td><td>-999.0</td><td>-999.0</td><td>-999.0</td><td>0.512</td><td>12.438</td><td>0.197</td><td>11.789</td><td>4.178</td><td>0.915</td><td>0.325</td><td>107.947</td><td>30.063</td><td>27.569</td><td>30.063</td><td>2.664</td><td>12.888</td><td>0.232</td><td>92.157</td><td>4.289</td><td>7.124</td><td>0.355</td><td>107.094</td><td>3.778</td><td>8.987</td><td>3.778</td><td>21.258</td><td>12.937</td><td>0.232</td><td>35.559</td><td>4.159</td><td>2.734</td><td>0.323</td><td>107.947</td><td>9.367</td><td>27.569</td><td>9.367</td><td>8.331</td><td>13.005</td><td>0.232</td><td>20.523</td><td>6.683</td><td>1.623</td><td>0.529</td><td>117.222</td><td>25.391</td><td>-16.546</td><td>25.391</td><td>2.776</td><td>12.643</td><td>0.097</td><td>12.339</td><td>9.158</td><td>0.972</td><td>0.721</td><td>117.222</td><td>67.623</td><td>-16.546</td><td>67.623</td><td>1.788</td><td>12.699</td><td>0.097</td><td>SF</td><td>True</td><td>SF</td><td>True</td><td>1</td><td>1</td></tr>\n",
       "<tr><td>587724648182317252</td><td>92828846214086656</td><td>587724648182317252</td><td>52056</td><td>329</td><td>14</td><td>177.80057633</td><td>-3.32112818</td><td>0.127344</td><td>1</td><td>64</td><td>19.222832</td><td>17.555883</td><td>16.594355</td><td>16.159546</td><td>15.8627205</td><td>3295205614</td><td>32952056014</td><td>nan</td><td>nan</td><td>nan</td><td>nan</td><td>nan</td><td>nan</td><td>nan</td><td>11.473999977111816</td><td>9.171199798583984</td><td>-20.19706916809082</td><td>-21.77981948852539</td><td>-22.476890563964844</td><td>-22.79969024658203</td><td>-23.067279815673828</td><td>10.021300315856934</td><td>1.2539000511169434</td><td>1.3315999507904053</td><td>0.2919999957084656</td><td>233.73488</td><td>10.794621</td><td>28</td><td>0.75</td><td>0.0</td><td>0.0</td><td>0.071</td><td>0.071</td><td>0.107</td><td>0.071</td><td>0.715</td><td>0.103</td><td>0</td><td>0</td><td>1</td><td>94.31</td><td>7.963</td><td>4.37</td><td>0.429</td><td>204.313</td><td>11.77</td><td>15.49</td><td>11.77</td><td>8.339</td><td>21.583</td><td>1.077</td><td>-994.0</td><td>-999.0</td><td>-999.0</td><td>-999.0</td><td>-999.0</td><td>-999.0</td><td>-999.0</td><td>-999.0</td><td>1.156</td><td>21.769</td><td>0.916</td><td>25.902</td><td>6.244</td><td>0.827</td><td>0.2</td><td>208.185</td><td>20.659</td><td>4.221</td><td>20.622</td><td>2.174</td><td>31.335</td><td>0.711</td><td>15.501</td><td>4.598</td><td>0.487</td><td>0.151</td><td>208.185</td><td>16.87</td><td>4.221</td><td>16.667</td><td>2.981</td><td>31.816</td><td>2.921</td><td>-999.0</td><td>-999.0</td><td>-999.0</td><td>-999.0</td><td>-999.0</td><td>-999.0</td><td>-999.0</td><td>-999.0</td><td>0.061</td><td>32.723</td><td>2.647</td><td>-999.0</td><td>-999.0</td><td>-999.0</td><td>-999.0</td><td>-999.0</td><td>-999.0</td><td>-999.0</td><td>-999.0</td><td>0.243</td><td>43.55</td><td>0.828</td><td>58.663</td><td>7.087</td><td>1.258</td><td>0.153</td><td>208.185</td><td>16.986</td><td>4.221</td><td>16.986</td><td>5.708</td><td>46.63</td><td>0.583</td><td>7.439</td><td>6.628</td><td>0.166</td><td>0.148</td><td>105.331</td><td>73.619</td><td>-19.613</td><td>73.619</td><td>1.013</td><td>44.772</td><td>1.192</td><td>22.307</td><td>6.941</td><td>0.498</td><td>0.156</td><td>105.331</td><td>24.315</td><td>-19.613</td><td>24.315</td><td>3.322</td><td>44.772</td><td>1.192</td><td>18.13</td><td>6.355</td><td>0.395</td><td>0.138</td><td>140.275</td><td>42.744</td><td>-148.299</td><td>42.744</td><td>2.51</td><td>45.932</td><td>0.658</td><td>54.37</td><td>9.128</td><td>1.136</td><td>0.191</td><td>195.536</td><td>25.03</td><td>19.79</td><td>25.03</td><td>4.372</td><td>47.862</td><td>0.733</td><td>274.872</td><td>11.82</td><td>5.721</td><td>0.261</td><td>208.185</td><td>6.316</td><td>4.221</td><td>6.316</td><td>16.55</td><td>48.044</td><td>0.733</td><td>163.992</td><td>9.354</td><td>3.395</td><td>0.2</td><td>195.536</td><td>7.685</td><td>19.79</td><td>7.685</td><td>12.026</td><td>48.298</td><td>0.733</td><td>81.207</td><td>7.929</td><td>1.722</td><td>0.168</td><td>198.366</td><td>12.747</td><td>60.729</td><td>12.747</td><td>7.119</td><td>47.171</td><td>0.261</td><td>49.703</td><td>8.199</td><td>1.049</td><td>0.173</td><td>198.366</td><td>23.792</td><td>60.729</td><td>23.792</td><td>4.168</td><td>47.377</td><td>0.261</td><td>Composite</td><td>True</td><td>wAGN</td><td>True</td><td>3</td><td>3</td></tr>\n",
       "<tr><td>587724648182186038</td><td>93111670955573248</td><td>587724648182186038</td><td>52370</td><td>330</td><td>287</td><td>177.45740855</td><td>-3.5176668</td><td>0.0267437</td><td>1</td><td>96</td><td>16.809576</td><td>15.23728</td><td>14.486276</td><td>14.07722</td><td>13.760928</td><td>33052370287</td><td>33052370287</td><td>nan</td><td>nan</td><td>nan</td><td>nan</td><td>nan</td><td>nan</td><td>nan</td><td>11.060199737548828</td><td>8.743399620056152</td><td>-18.762359619140625</td><td>-20.272220611572266</td><td>-20.963409423828125</td><td>-21.330780029296875</td><td>-21.612550735473633</td><td>10.137100219726562</td><td>0.7120000123977661</td><td>1.5298999547958374</td><td>0.7160000205039978</td><td>147.01567</td><td>5.847112</td><td>40</td><td>0.0</td><td>0.05</td><td>0.85</td><td>0.1</td><td>0.0</td><td>0.0</td><td>1.0</td><td>0.0</td><td>1.0</td><td>1</td><td>0</td><td>0</td><td>137.555</td><td>9.977</td><td>3.834</td><td>0.332</td><td>156.4</td><td>8.353</td><td>32.751</td><td>8.353</td><td>11.13</td><td>35.874</td><td>1.698</td><td>-994.0</td><td>-999.0</td><td>-999.0</td><td>-999.0</td><td>-999.0</td><td>-999.0</td><td>-999.0</td><td>-999.0</td><td>1.381</td><td>36.012</td><td>1.389</td><td>30.085</td><td>12.764</td><td>0.626</td><td>0.266</td><td>106.752</td><td>35.096</td><td>-41.252</td><td>35.096</td><td>2.916</td><td>48.096</td><td>1.252</td><td>27.559</td><td>9.589</td><td>0.571</td><td>0.205</td><td>106.752</td><td>23.454</td><td>-41.252</td><td>23.459</td><td>2.39</td><td>48.267</td><td>4.108</td><td>11.31</td><td>10.755</td><td>0.231</td><td>0.22</td><td>106.166</td><td>41.018</td><td>-22.102</td><td>40.832</td><td>1.286</td><td>49.058</td><td>3.931</td><td>16.089</td><td>9.324</td><td>0.248</td><td>0.144</td><td>71.246</td><td>32.189</td><td>-14.159</td><td>32.176</td><td>1.765</td><td>64.905</td><td>1.378</td><td>41.923</td><td>6.235</td><td>0.605</td><td>0.09</td><td>106.752</td><td>9.164</td><td>-41.252</td><td>9.139</td><td>5.445</td><td>69.273</td><td>1.041</td><td>19.465</td><td>6.513</td><td>0.288</td><td>0.097</td><td>106.166</td><td>19.921</td><td>-22.102</td><td>19.921</td><td>3.133</td><td>67.673</td><td>2.406</td><td>58.369</td><td>7.145</td><td>0.863</td><td>0.11</td><td>106.166</td><td>9.294</td><td>-22.102</td><td>9.294</td><td>7.974</td><td>67.673</td><td>2.406</td><td>47.941</td><td>10.924</td><td>0.632</td><td>0.145</td><td>180.715</td><td>31.624</td><td>-22.086</td><td>31.624</td><td>3.725</td><td>75.813</td><td>1.503</td><td>61.934</td><td>6.026</td><td>0.761</td><td>0.076</td><td>105.085</td><td>6.732</td><td>-37.825</td><td>6.732</td><td>11.305</td><td>81.364</td><td>1.584</td><td>241.191</td><td>6.452</td><td>2.953</td><td>0.098</td><td>106.752</td><td>2.072</td><td>-41.252</td><td>2.072</td><td>34.772</td><td>81.676</td><td>1.584</td><td>186.807</td><td>6.248</td><td>2.275</td><td>0.088</td><td>105.085</td><td>2.57</td><td>-37.825</td><td>2.57</td><td>26.765</td><td>82.112</td><td>1.584</td><td>85.999</td><td>8.88</td><td>1.068</td><td>0.111</td><td>124.093</td><td>8.885</td><td>-49.309</td><td>8.885</td><td>8.805</td><td>80.525</td><td>0.574</td><td>64.094</td><td>9.583</td><td>0.792</td><td>0.119</td><td>124.093</td><td>14.585</td><td>-49.309</td><td>14.585</td><td>5.928</td><td>80.879</td><td>0.574</td><td>AGN</td><td>True</td><td>Liny Retired</td><td>True</td><td>2</td><td>4</td></tr>\n",
       "<tr><td>587724648182186015</td><td>93111670942990336</td><td>587724648182186015</td><td>52370</td><td>330</td><td>284</td><td>177.41000392</td><td>-3.50821023</td><td>0.0287975</td><td>1</td><td>96</td><td>17.274414</td><td>16.053394</td><td>15.379226</td><td>15.020998</td><td>14.766885</td><td>33052370284</td><td>33052370284</td><td>nan</td><td>nan</td><td>nan</td><td>nan</td><td>nan</td><td>nan</td><td>nan</td><td>10.509200096130371</td><td>8.67300033569336</td><td>-18.440269470214844</td><td>-19.616079330444336</td><td>-20.22599983215332</td><td>-20.546180725097656</td><td>-20.775379180908203</td><td>10.01200008392334</td><td>0.5338000059127808</td><td>0.9754999876022339</td><td>0.38600000739097595</td><td>65.33519</td><td>7.7289953</td><td>29</td><td>0.586</td><td>0.069</td><td>0.0</td><td>0.172</td><td>0.034</td><td>0.138</td><td>0.241</td><td>0.579</td><td>0.248</td><td>0</td><td>0</td><td>1</td><td>92.386</td><td>7.149</td><td>4.727</td><td>0.432</td><td>212.903</td><td>10.612</td><td>50.689</td><td>10.612</td><td>8.771</td><td>19.546</td><td>0.948</td><td>35.01</td><td>6.792</td><td>1.844</td><td>0.363</td><td>288.743</td><td>29.9</td><td>14.222</td><td>29.906</td><td>2.377</td><td>18.985</td><td>0.655</td><td>17.393</td><td>11.572</td><td>0.732</td><td>0.487</td><td>90.194</td><td>53.585</td><td>-7.072</td><td>53.585</td><td>2.283</td><td>23.764</td><td>0.719</td><td>16.327</td><td>6.043</td><td>0.714</td><td>0.271</td><td>90.194</td><td>22.398</td><td>-7.072</td><td>22.434</td><td>2.544</td><td>22.86</td><td>1.917</td><td>-999.0</td><td>-999.0</td><td>-999.0</td><td>-999.0</td><td>-999.0</td><td>-999.0</td><td>-999.0</td><td>-999.0</td><td>0.082</td><td>23.211</td><td>1.931</td><td>-999.0</td><td>-999.0</td><td>-999.0</td><td>-999.0</td><td>-999.0</td><td>-999.0</td><td>-999.0</td><td>-999.0</td><td>0.324</td><td>28.796</td><td>0.617</td><td>32.945</td><td>4.22</td><td>1.096</td><td>0.141</td><td>90.194</td><td>8.177</td><td>-7.072</td><td>8.177</td><td>7.534</td><td>30.064</td><td>0.462</td><td>-999.0</td><td>-999.0</td><td>-999.0</td><td>-999.0</td><td>-999.0</td><td>-999.0</td><td>-999.0</td><td>-999.0</td><td>0.044</td><td>28.692</td><td>1.098</td><td>12.202</td><td>4.897</td><td>0.425</td><td>0.171</td><td>77.559</td><td>23.786</td><td>6.945</td><td>23.786</td><td>3.423</td><td>28.692</td><td>1.098</td><td>5.811</td><td>4.401</td><td>0.203</td><td>0.153</td><td>83.33</td><td>49.362</td><td>-10.59</td><td>49.362</td><td>1.491</td><td>28.684</td><td>0.527</td><td>21.532</td><td>3.613</td><td>0.721</td><td>0.122</td><td>96.272</td><td>11.412</td><td>-12.751</td><td>11.412</td><td>5.84</td><td>29.849</td><td>0.626</td><td>137.971</td><td>3.72</td><td>4.605</td><td>0.157</td><td>90.194</td><td>1.819</td><td>-7.072</td><td>1.819</td><td>36.565</td><td>29.962</td><td>0.626</td><td>64.945</td><td>3.738</td><td>2.156</td><td>0.132</td><td>96.272</td><td>4.13</td><td>-12.751</td><td>4.13</td><td>16.817</td><td>30.121</td><td>0.626</td><td>32.918</td><td>4.938</td><td>1.121</td><td>0.169</td><td>94.417</td><td>11.39</td><td>-13.942</td><td>11.39</td><td>7.193</td><td>29.357</td><td>0.276</td><td>22.473</td><td>4.272</td><td>0.762</td><td>0.145</td><td>94.417</td><td>12.47</td><td>-13.942</td><td>12.47</td><td>5.136</td><td>29.486</td><td>0.276</td><td>SF</td><td>True</td><td>wAGN</td><td>True</td><td>1</td><td>3</td></tr>\n",
       "<tr><td>...</td><td>...</td><td>...</td><td>...</td><td>...</td><td>...</td><td>...</td><td>...</td><td>...</td><td>...</td><td>...</td><td>...</td><td>...</td><td>...</td><td>...</td><td>...</td><td>...</td><td>...</td><td>...</td><td>...</td><td>...</td><td>...</td><td>...</td><td>...</td><td>...</td><td>...</td><td>...</td><td>...</td><td>...</td><td>...</td><td>...</td><td>...</td><td>...</td><td>...</td><td>...</td><td>...</td><td>...</td><td>...</td><td>...</td><td>...</td><td>...</td><td>...</td><td>...</td><td>...</td><td>...</td><td>...</td><td>...</td><td>...</td><td>...</td><td>...</td><td>...</td><td>...</td><td>...</td><td>...</td><td>...</td><td>...</td><td>...</td><td>...</td><td>...</td><td>...</td><td>...</td><td>...</td><td>...</td><td>...</td><td>...</td><td>...</td><td>...</td><td>...</td><td>...</td><td>...</td><td>...</td><td>...</td><td>...</td><td>...</td><td>...</td><td>...</td><td>...</td><td>...</td><td>...</td><td>...</td><td>...</td><td>...</td><td>...</td><td>...</td><td>...</td><td>...</td><td>...</td><td>...</td><td>...</td><td>...</td><td>...</td><td>...</td><td>...</td><td>...</td><td>...</td><td>...</td><td>...</td><td>...</td><td>...</td><td>...</td><td>...</td><td>...</td><td>...</td><td>...</td><td>...</td><td>...</td><td>...</td><td>...</td><td>...</td><td>...</td><td>...</td><td>...</td><td>...</td><td>...</td><td>...</td><td>...</td><td>...</td><td>...</td><td>...</td><td>...</td><td>...</td><td>...</td><td>...</td><td>...</td><td>...</td><td>...</td><td>...</td><td>...</td><td>...</td><td>...</td><td>...</td><td>...</td><td>...</td><td>...</td><td>...</td><td>...</td><td>...</td><td>...</td><td>...</td><td>...</td><td>...</td><td>...</td><td>...</td><td>...</td><td>...</td><td>...</td><td>...</td><td>...</td><td>...</td><td>...</td><td>...</td><td>...</td><td>...</td><td>...</td><td>...</td><td>...</td><td>...</td><td>...</td><td>...</td><td>...</td><td>...</td><td>...</td><td>...</td><td>...</td><td>...</td><td>...</td><td>...</td><td>...</td><td>...</td><td>...</td><td>...</td><td>...</td><td>...</td><td>...</td><td>...</td><td>...</td><td>...</td><td>...</td><td>...</td><td>...</td><td>...</td><td>...</td><td>...</td><td>...</td><td>...</td><td>...</td><td>...</td><td>...</td><td>...</td><td>...</td><td>...</td><td>...</td><td>...</td><td>...</td><td>...</td><td>...</td><td>...</td><td>...</td><td>...</td><td>...</td><td>...</td><td>...</td><td>...</td><td>...</td><td>...</td><td>...</td><td>...</td><td>...</td><td>...</td><td>...</td><td>...</td><td>...</td><td>...</td><td>...</td><td>...</td><td>...</td><td>...</td><td>...</td><td>...</td><td>...</td><td>...</td><td>...</td></tr>\n",
       "<tr><td>588298663046021410</td><td>392604215140155392</td><td>588298663046021410</td><td>53108</td><td>1394</td><td>115</td><td>214.39496493</td><td>43.3872236</td><td>0.102092</td><td>1</td><td>64</td><td>19.78198</td><td>18.097698</td><td>17.242552</td><td>16.804888</td><td>16.426119</td><td>139453108115</td><td>139453108115</td><td>-17.17371</td><td>-17.60029</td><td>-18.96288</td><td>-20.55689</td><td>-21.27409</td><td>-21.59092</td><td>-21.98093</td><td>11.123600006103516</td><td>9.580599784851074</td><td>-18.950580596923828</td><td>-20.566030502319336</td><td>-21.283039093017578</td><td>-21.62466049194336</td><td>-22.022769927978516</td><td>10.035499572753906</td><td>0.7903000116348267</td><td>1.149899959564209</td><td>0.4519999921321869</td><td>121.61887</td><td>14.986195</td><td>31</td><td>0.065</td><td>0.0</td><td>0.065</td><td>0.871</td><td>0.0</td><td>0.0</td><td>0.935</td><td>0.01</td><td>0.99</td><td>1</td><td>0</td><td>0</td><td>87.468</td><td>5.789</td><td>12.82</td><td>1.184</td><td>247.314</td><td>11.319</td><td>23.821</td><td>11.319</td><td>8.486</td><td>6.823</td><td>0.44</td><td>-999.0</td><td>6.023</td><td>3.039</td><td>0.917</td><td>214.647</td><td>110.356</td><td>413.412</td><td>110.356</td><td>0.812</td><td>6.692</td><td>0.386</td><td>-999.0</td><td>-999.0</td><td>-999.0</td><td>-999.0</td><td>-999.0</td><td>-999.0</td><td>-999.0</td><td>-999.0</td><td>0.832</td><td>10.333</td><td>0.301</td><td>7.703</td><td>4.8</td><td>0.721</td><td>0.456</td><td>130.061</td><td>54.479</td><td>-4.9</td><td>54.479</td><td>1.581</td><td>10.684</td><td>1.173</td><td>-999.0</td><td>4.484</td><td>0.386</td><td>0.405</td><td>164.626</td><td>66.147</td><td>19.0</td><td>66.122</td><td>0.927</td><td>11.116</td><td>1.086</td><td>-999.0</td><td>-999.0</td><td>-999.0</td><td>-999.0</td><td>-999.0</td><td>-999.0</td><td>-999.0</td><td>-999.0</td><td>0.006</td><td>15.392</td><td>0.348</td><td>20.471</td><td>4.253</td><td>1.222</td><td>0.255</td><td>130.061</td><td>23.02</td><td>-4.9</td><td>23.02</td><td>4.249</td><td>16.748</td><td>0.256</td><td>14.398</td><td>5.216</td><td>0.885</td><td>0.322</td><td>164.626</td><td>29.363</td><td>19.0</td><td>29.363</td><td>3.357</td><td>16.267</td><td>0.56</td><td>43.175</td><td>5.005</td><td>2.654</td><td>0.321</td><td>164.626</td><td>13.614</td><td>19.0</td><td>13.614</td><td>6.732</td><td>16.267</td><td>0.56</td><td>11.185</td><td>3.615</td><td>0.624</td><td>0.202</td><td>101.249</td><td>25.003</td><td>-31.13</td><td>25.003</td><td>3.111</td><td>17.924</td><td>0.317</td><td>21.415</td><td>3.393</td><td>1.129</td><td>0.18</td><td>147.908</td><td>17.447</td><td>9.081</td><td>17.447</td><td>5.233</td><td>18.967</td><td>0.348</td><td>87.378</td><td>3.375</td><td>4.589</td><td>0.196</td><td>130.061</td><td>3.54</td><td>-4.9</td><td>3.54</td><td>23.216</td><td>19.04</td><td>0.348</td><td>64.591</td><td>3.338</td><td>3.375</td><td>0.185</td><td>147.908</td><td>5.204</td><td>9.081</td><td>5.204</td><td>15.439</td><td>19.141</td><td>0.348</td><td>40.263</td><td>3.832</td><td>2.151</td><td>0.205</td><td>175.009</td><td>11.991</td><td>-20.593</td><td>11.991</td><td>8.544</td><td>18.717</td><td>0.126</td><td>35.435</td><td>3.167</td><td>1.885</td><td>0.169</td><td>175.009</td><td>9.69</td><td>-20.593</td><td>9.69</td><td>8.539</td><td>18.799</td><td>0.126</td><td>AGN</td><td>True</td><td>wAGN</td><td>True</td><td>2</td><td>3</td></tr>\n",
       "<tr><td>588017979957051407</td><td>551075947567120384</td><td>588017979957051407</td><td>53415</td><td>1957</td><td>588</td><td>156.51801576</td><td>37.45066781</td><td>0.0498428</td><td>1</td><td>64</td><td>18.880417</td><td>17.836533</td><td>17.819666</td><td>17.500032</td><td>17.449125</td><td>195753415588</td><td>195753415588</td><td>nan</td><td>nan</td><td>nan</td><td>nan</td><td>nan</td><td>nan</td><td>nan</td><td>9.24269962310791</td><td>7.666600227355957</td><td>-17.971460342407227</td><td>-18.970720291137695</td><td>-19.059019088745117</td><td>-19.2631893157959</td><td>-19.294729232788086</td><td>9.492600440979004</td><td>0.1444000005722046</td><td>0.05559999868273735</td><td>0.3319999873638153</td><td>49.21154</td><td>31.048944</td><td>34</td><td>0.088</td><td>0.029</td><td>0.0</td><td>0.794</td><td>0.088</td><td>0.0</td><td>0.824</td><td>0.023</td><td>0.884</td><td>1</td><td>0</td><td>0</td><td>1081.193</td><td>33.231</td><td>86.72</td><td>3.766</td><td>188.747</td><td>4.159</td><td>17.908</td><td>4.159</td><td>24.184</td><td>12.468</td><td>0.383</td><td>164.873</td><td>4.097</td><td>11.228</td><td>0.337</td><td>95.984</td><td>1.79</td><td>-11.968</td><td>1.79</td><td>39.29</td><td>14.684</td><td>0.247</td><td>127.73</td><td>4.49</td><td>8.53</td><td>0.345</td><td>85.064</td><td>2.282</td><td>29.738</td><td>2.283</td><td>29.313</td><td>14.974</td><td>0.299</td><td>234.902</td><td>3.869</td><td>18.107</td><td>0.362</td><td>85.064</td><td>1.075</td><td>29.738</td><td>1.075</td><td>62.749</td><td>12.973</td><td>0.146</td><td>-999.0</td><td>-999.0</td><td>-999.0</td><td>-999.0</td><td>-999.0</td><td>-999.0</td><td>-999.0</td><td>-999.0</td><td>0.134</td><td>12.261</td><td>0.759</td><td>23.317</td><td>7.621</td><td>1.857</td><td>0.607</td><td>350.725</td><td>83.056</td><td>441.079</td><td>83.056</td><td>2.891</td><td>12.554</td><td>0.081</td><td>570.032</td><td>5.246</td><td>47.683</td><td>0.491</td><td>85.064</td><td>0.578</td><td>29.738</td><td>0.578</td><td>106.946</td><td>11.955</td><td>0.055</td><td>799.374</td><td>7.575</td><td>72.744</td><td>1.069</td><td>80.065</td><td>0.592</td><td>26.176</td><td>0.592</td><td>103.048</td><td>10.989</td><td>0.123</td><td>2397.088</td><td>13.534</td><td>218.138</td><td>2.742</td><td>80.065</td><td>0.34</td><td>26.176</td><td>0.34</td><td>175.959</td><td>10.989</td><td>0.123</td><td>27.427</td><td>3.316</td><td>3.453</td><td>0.418</td><td>81.076</td><td>7.425</td><td>14.652</td><td>7.425</td><td>8.231</td><td>7.942</td><td>0.047</td><td>44.138</td><td>1.818</td><td>5.789</td><td>0.244</td><td>85.112</td><td>2.72</td><td>24.911</td><td>2.72</td><td>22.275</td><td>7.624</td><td>0.065</td><td>1903.868</td><td>11.931</td><td>248.782</td><td>2.633</td><td>85.064</td><td>0.401</td><td>29.738</td><td>0.401</td><td>157.0</td><td>7.653</td><td>0.065</td><td>133.13</td><td>2.311</td><td>17.307</td><td>0.334</td><td>85.112</td><td>1.099</td><td>24.911</td><td>1.099</td><td>56.698</td><td>7.692</td><td>0.065</td><td>143.827</td><td>3.662</td><td>19.412</td><td>0.508</td><td>83.861</td><td>1.592</td><td>30.783</td><td>1.592</td><td>38.188</td><td>7.409</td><td>0.045</td><td>110.006</td><td>3.472</td><td>14.783</td><td>0.475</td><td>83.861</td><td>1.975</td><td>30.783</td><td>1.975</td><td>31.219</td><td>7.442</td><td>0.045</td><td>SF</td><td>True</td><td>SF</td><td>True</td><td>1</td><td>1</td></tr>\n",
       "<tr><td>588017979957051419</td><td>551075947768446976</td><td>588017979957051419</td><td>53415</td><td>1957</td><td>636</td><td>156.61480376</td><td>37.32555324</td><td>0.0601631</td><td>1</td><td>64</td><td>17.38633</td><td>16.13891</td><td>15.529866</td><td>15.135116</td><td>14.906886</td><td>195753415636</td><td>195753415636</td><td>-17.44356</td><td>-18.57442</td><td>-20.00607</td><td>-21.14469</td><td>-21.70668</td><td>-22.01292</td><td>-22.23423</td><td>11.226499557495117</td><td>8.71660041809082</td><td>-19.965959548950195</td><td>-21.161819458007812</td><td>-21.733739852905273</td><td>-22.035669326782227</td><td>-22.27597999572754</td><td>10.145299911499023</td><td>0.3573000133037567</td><td>0.9496999979019165</td><td>0.5419999957084656</td><td>151.2337</td><td>7.2523584</td><td>23</td><td>0.739</td><td>0.043</td><td>0.087</td><td>0.043</td><td>0.043</td><td>0.043</td><td>0.174</td><td>0.739</td><td>0.174</td><td>0</td><td>0</td><td>1</td><td>372.248</td><td>13.247</td><td>8.173</td><td>0.46</td><td>228.768</td><td>5.412</td><td>-49.196</td><td>5.412</td><td>18.418</td><td>45.549</td><td>1.983</td><td>27.082</td><td>5.321</td><td>0.473</td><td>0.093</td><td>98.26</td><td>14.301</td><td>-89.769</td><td>14.312</td><td>4.676</td><td>57.245</td><td>0.966</td><td>115.165</td><td>8.317</td><td>1.794</td><td>0.135</td><td>149.555</td><td>8.01</td><td>-37.145</td><td>8.01</td><td>12.553</td><td>64.182</td><td>1.337</td><td>193.329</td><td>9.286</td><td>3.238</td><td>0.194</td><td>149.555</td><td>5.129</td><td>-37.145</td><td>5.129</td><td>17.952</td><td>59.714</td><td>2.129</td><td>-999.0</td><td>-999.0</td><td>-999.0</td><td>-999.0</td><td>-999.0</td><td>-999.0</td><td>-999.0</td><td>-999.0</td><td>0.0</td><td>57.731</td><td>3.636</td><td>-994.0</td><td>-999.0</td><td>-999.0</td><td>-999.0</td><td>-999.0</td><td>-999.0</td><td>-999.0</td><td>-999.0</td><td>1.878</td><td>67.278</td><td>0.638</td><td>495.783</td><td>18.417</td><td>7.218</td><td>0.273</td><td>149.555</td><td>4.035</td><td>-37.145</td><td>4.035</td><td>22.123</td><td>68.683</td><td>0.486</td><td>27.682</td><td>7.602</td><td>0.42</td><td>0.116</td><td>139.552</td><td>24.129</td><td>-28.55</td><td>24.129</td><td>3.367</td><td>65.854</td><td>1.275</td><td>83.01</td><td>9.334</td><td>1.261</td><td>0.144</td><td>139.552</td><td>11.978</td><td>-28.55</td><td>11.978</td><td>8.371</td><td>65.854</td><td>1.275</td><td>60.869</td><td>6.296</td><td>0.969</td><td>0.101</td><td>151.84</td><td>11.617</td><td>-49.217</td><td>11.617</td><td>8.283</td><td>62.844</td><td>0.648</td><td>320.945</td><td>10.37</td><td>4.996</td><td>0.172</td><td>145.091</td><td>3.625</td><td>-45.277</td><td>3.625</td><td>26.68</td><td>64.241</td><td>0.781</td><td>2641.848</td><td>76.245</td><td>40.969</td><td>1.282</td><td>149.555</td><td>3.207</td><td>-37.145</td><td>3.207</td><td>30.302</td><td>64.484</td><td>0.781</td><td>968.043</td><td>28.652</td><td>14.933</td><td>0.477</td><td>145.091</td><td>3.138</td><td>-45.277</td><td>3.138</td><td>27.827</td><td>64.824</td><td>0.781</td><td>336.762</td><td>12.797</td><td>5.327</td><td>0.205</td><td>150.133</td><td>4.092</td><td>-39.581</td><td>4.092</td><td>22.869</td><td>63.214</td><td>0.352</td><td>261.52</td><td>12.567</td><td>4.119</td><td>0.199</td><td>150.133</td><td>5.376</td><td>-39.581</td><td>5.376</td><td>17.959</td><td>63.492</td><td>0.352</td><td>SF</td><td>True</td><td>SF</td><td>True</td><td>1</td><td>1</td></tr>\n",
       "<tr><td>588298664119566501</td><td>392604216511692800</td><td>588298664119566501</td><td>53108</td><td>1394</td><td>442</td><td>214.23903304</td><td>44.49321167</td><td>0.095186</td><td>1</td><td>64</td><td>19.4597</td><td>18.067495</td><td>17.443068</td><td>17.054413</td><td>16.935818</td><td>139453108442</td><td>139453108442</td><td>-17.10265</td><td>-18.0938</td><td>-19.03871</td><td>-20.33313</td><td>-20.87836</td><td>-21.10905</td><td>-21.22708</td><td>10.46399974822998</td><td>8.315600395202637</td><td>-19.023250579833984</td><td>-20.345199584960938</td><td>-20.888999938964844</td><td>-21.17184066772461</td><td>-21.269269943237305</td><td>9.866499900817871</td><td>0.3109999895095825</td><td>0.08049999922513962</td><td>0.6729999780654907</td><td>98.121994</td><td>16.689999</td><td>28</td><td>0.429</td><td>0.036</td><td>0.071</td><td>0.25</td><td>0.179</td><td>0.036</td><td>0.357</td><td>0.15</td><td>0.558</td><td>0</td><td>0</td><td>1</td><td>484.669</td><td>14.982</td><td>36.01</td><td>1.761</td><td>202.348</td><td>4.361</td><td>-11.615</td><td>4.361</td><td>23.448</td><td>13.459</td><td>0.51</td><td>24.894</td><td>6.238</td><td>1.506</td><td>0.378</td><td>137.469</td><td>23.056</td><td>-44.435</td><td>23.056</td><td>3.173</td><td>16.531</td><td>0.248</td><td>59.969</td><td>5.755</td><td>3.343</td><td>0.329</td><td>107.672</td><td>7.104</td><td>-6.946</td><td>7.103</td><td>9.501</td><td>17.941</td><td>0.4</td><td>112.832</td><td>4.63</td><td>6.847</td><td>0.332</td><td>107.672</td><td>3.154</td><td>-6.946</td><td>3.154</td><td>23.173</td><td>16.48</td><td>0.427</td><td>-999.0</td><td>-999.0</td><td>-999.0</td><td>-999.0</td><td>-999.0</td><td>-999.0</td><td>-999.0</td><td>-999.0</td><td>0.444</td><td>15.786</td><td>1.074</td><td>-999.0</td><td>-999.0</td><td>-999.0</td><td>-999.0</td><td>-999.0</td><td>-999.0</td><td>-999.0</td><td>-999.0</td><td>0.0</td><td>17.738</td><td>0.164</td><td>282.446</td><td>5.757</td><td>15.64</td><td>0.335</td><td>107.672</td><td>1.565</td><td>-6.946</td><td>1.565</td><td>44.917</td><td>18.06</td><td>0.12</td><td>84.522</td><td>3.523</td><td>4.942</td><td>0.227</td><td>107.061</td><td>3.392</td><td>-19.296</td><td>3.392</td><td>23.175</td><td>17.103</td><td>0.327</td><td>253.458</td><td>4.312</td><td>14.819</td><td>0.379</td><td>107.061</td><td>1.328</td><td>-19.296</td><td>1.328</td><td>55.862</td><td>17.103</td><td>0.327</td><td>35.621</td><td>3.992</td><td>2.276</td><td>0.256</td><td>129.913</td><td>10.177</td><td>17.228</td><td>10.177</td><td>7.705</td><td>15.654</td><td>0.151</td><td>143.766</td><td>4.462</td><td>9.143</td><td>0.305</td><td>107.088</td><td>2.573</td><td>-15.598</td><td>2.573</td><td>29.626</td><td>15.725</td><td>0.192</td><td>1191.667</td><td>12.593</td><td>75.497</td><td>1.217</td><td>107.672</td><td>0.842</td><td>-6.946</td><td>0.842</td><td>91.063</td><td>15.784</td><td>0.192</td><td>433.632</td><td>6.894</td><td>27.328</td><td>0.546</td><td>107.088</td><td>1.225</td><td>-15.598</td><td>1.225</td><td>58.626</td><td>15.868</td><td>0.192</td><td>219.928</td><td>7.658</td><td>14.108</td><td>0.499</td><td>118.941</td><td>3.057</td><td>-5.987</td><td>3.057</td><td>26.896</td><td>15.589</td><td>0.098</td><td>178.757</td><td>6.544</td><td>11.416</td><td>0.424</td><td>118.941</td><td>3.016</td><td>-5.987</td><td>3.016</td><td>24.585</td><td>15.658</td><td>0.098</td><td>SF</td><td>True</td><td>SF</td><td>True</td><td>1</td><td>1</td></tr>\n",
       "<tr><td>588298661972082812</td><td>392604215538614272</td><td>588298661972082812</td><td>53108</td><td>1394</td><td>210</td><td>213.31815381</td><td>42.75006022</td><td>0.106377</td><td>1</td><td>64</td><td>19.159845</td><td>18.086779</td><td>17.464378</td><td>17.122734</td><td>16.90793</td><td>139453108210</td><td>139453108210</td><td>-17.72499</td><td>-18.6168</td><td>-19.50514</td><td>-20.55526</td><td>-21.07306</td><td>-21.31631</td><td>-21.51139</td><td>10.72920036315918</td><td>8.33080005645752</td><td>-19.47504997253418</td><td>-20.572580337524414</td><td>-21.087190628051758</td><td>-21.3405704498291</td><td>-21.550830841064453</td><td>9.782500267028809</td><td>0.8425999879837036</td><td>1.4622999429702759</td><td>0.5049999952316284</td><td>69.66093</td><td>14.540499</td><td>42</td><td>0.452</td><td>0.0</td><td>0.262</td><td>0.167</td><td>0.095</td><td>0.024</td><td>0.429</td><td>0.112</td><td>0.71</td><td>0</td><td>0</td><td>1</td><td>67.605</td><td>7.021</td><td>6.85</td><td>0.764</td><td>197.756</td><td>14.333</td><td>-10.061</td><td>14.333</td><td>7.081</td><td>9.87</td><td>0.402</td><td>-999.0</td><td>-999.0</td><td>-999.0</td><td>-999.0</td><td>-999.0</td><td>-999.0</td><td>-999.0</td><td>-999.0</td><td>0.046</td><td>11.095</td><td>0.263</td><td>8.123</td><td>4.491</td><td>0.617</td><td>0.341</td><td>102.492</td><td>28.366</td><td>-3.091</td><td>28.64</td><td>1.923</td><td>13.167</td><td>0.338</td><td>21.553</td><td>5.365</td><td>1.71</td><td>0.438</td><td>102.492</td><td>19.778</td><td>-3.091</td><td>19.778</td><td>4.149</td><td>12.603</td><td>0.753</td><td>3.208</td><td>-5.521</td><td>0.258</td><td>0.444</td><td>118.19</td><td>55.47</td><td>-16.835</td><td>55.611</td><td>1.008</td><td>12.451</td><td>0.916</td><td>-999.0</td><td>4.173</td><td>0.467</td><td>0.279</td><td>121.13</td><td>44.104</td><td>-192.402</td><td>35.385</td><td>0.771</td><td>14.984</td><td>0.279</td><td>53.673</td><td>4.353</td><td>3.441</td><td>0.283</td><td>102.492</td><td>6.229</td><td>-3.091</td><td>6.229</td><td>11.949</td><td>15.599</td><td>0.201</td><td>14.896</td><td>3.973</td><td>1.002</td><td>0.269</td><td>118.19</td><td>25.369</td><td>-16.835</td><td>25.369</td><td>3.413</td><td>14.871</td><td>0.486</td><td>44.668</td><td>3.719</td><td>3.004</td><td>0.269</td><td>118.19</td><td>6.792</td><td>-16.835</td><td>6.792</td><td>10.849</td><td>14.871</td><td>0.486</td><td>13.228</td><td>3.974</td><td>0.921</td><td>0.277</td><td>166.517</td><td>32.719</td><td>4.394</td><td>32.719</td><td>2.674</td><td>14.365</td><td>0.237</td><td>38.133</td><td>3.302</td><td>2.576</td><td>0.228</td><td>105.662</td><td>5.487</td><td>2.822</td><td>5.487</td><td>14.182</td><td>14.804</td><td>0.283</td><td>237.606</td><td>3.713</td><td>15.989</td><td>0.394</td><td>102.492</td><td>1.193</td><td>-3.091</td><td>1.193</td><td>62.568</td><td>14.861</td><td>0.283</td><td>115.018</td><td>3.372</td><td>7.699</td><td>0.269</td><td>105.662</td><td>2.327</td><td>2.822</td><td>2.327</td><td>31.206</td><td>14.939</td><td>0.283</td><td>39.906</td><td>3.478</td><td>2.735</td><td>0.24</td><td>95.108</td><td>6.206</td><td>-20.06</td><td>6.206</td><td>11.355</td><td>14.59</td><td>0.126</td><td>29.427</td><td>3.423</td><td>2.008</td><td>0.234</td><td>95.108</td><td>8.251</td><td>-20.06</td><td>8.251</td><td>8.615</td><td>14.654</td><td>0.126</td><td>Composite</td><td>True</td><td>sAGN</td><td>True</td><td>3</td><td>2</td></tr>\n",
       "<tr><td>588017979956068441</td><td>550231272681635840</td><td>588017979956068441</td><td>53357</td><td>1954</td><td>386</td><td>153.88142493</td><td>36.60483777</td><td>0.0663154</td><td>1</td><td>66</td><td>19.17235</td><td>18.15976</td><td>17.722054</td><td>17.366472</td><td>17.292906</td><td>195453357386</td><td>195453357386</td><td>-17.42506</td><td>-17.61555</td><td>-18.38816</td><td>-19.3175</td><td>-19.74771</td><td>-19.9056</td><td>-20.0341</td><td>9.994999885559082</td><td>8.35509967803955</td><td>-18.3446102142334</td><td>-19.324600219726562</td><td>-19.75925064086914</td><td>-20.020200729370117</td><td>-20.083080291748047</td><td>9.934499740600586</td><td>0.36320000886917114</td><td>0.11620000004768372</td><td>0.28700000047683716</td><td>43.727222</td><td>18.588322</td><td>29</td><td>0.414</td><td>0.034</td><td>0.0</td><td>0.172</td><td>0.345</td><td>0.034</td><td>0.207</td><td>0.34</td><td>0.263</td><td>0</td><td>0</td><td>1</td><td>737.874</td><td>22.108</td><td>47.018</td><td>2.693</td><td>184.689</td><td>3.923</td><td>-1.764</td><td>3.923</td><td>25.667</td><td>15.693</td><td>0.766</td><td>24.836</td><td>4.85</td><td>1.245</td><td>0.244</td><td>95.195</td><td>13.752</td><td>-48.245</td><td>13.743</td><td>4.907</td><td>19.947</td><td>0.337</td><td>76.722</td><td>5.558</td><td>3.567</td><td>0.271</td><td>83.45</td><td>4.683</td><td>-7.957</td><td>4.682</td><td>14.233</td><td>21.508</td><td>0.496</td><td>140.362</td><td>3.917</td><td>7.355</td><td>0.303</td><td>83.45</td><td>1.711</td><td>-7.957</td><td>1.712</td><td>35.354</td><td>19.083</td><td>0.579</td><td>-999.0</td><td>-999.0</td><td>-999.0</td><td>-999.0</td><td>-999.0</td><td>-999.0</td><td>-999.0</td><td>-999.0</td><td>0.02</td><td>18.183</td><td>1.33</td><td>5.546</td><td>3.116</td><td>0.275</td><td>0.155</td><td>52.875</td><td>22.225</td><td>11.094</td><td>23.726</td><td>1.775</td><td>20.152</td><td>0.214</td><td>342.496</td><td>4.506</td><td>17.166</td><td>0.259</td><td>83.45</td><td>0.81</td><td>-7.957</td><td>0.81</td><td>74.163</td><td>19.952</td><td>0.148</td><td>98.885</td><td>3.317</td><td>5.317</td><td>0.212</td><td>80.09</td><td>1.98</td><td>-8.191</td><td>1.98</td><td>29.483</td><td>18.597</td><td>0.399</td><td>296.526</td><td>3.782</td><td>15.945</td><td>0.398</td><td>80.09</td><td>0.771</td><td>-8.191</td><td>0.771</td><td>78.117</td><td>18.597</td><td>0.399</td><td>34.786</td><td>2.342</td><td>2.282</td><td>0.155</td><td>94.042</td><td>4.732</td><td>-2.121</td><td>4.732</td><td>14.451</td><td>15.242</td><td>0.151</td><td>135.368</td><td>2.321</td><td>8.969</td><td>0.197</td><td>84.54</td><td>1.147</td><td>-7.328</td><td>1.147</td><td>56.068</td><td>15.093</td><td>0.208</td><td>1293.122</td><td>7.307</td><td>85.353</td><td>1.27</td><td>83.45</td><td>0.356</td><td>-7.957</td><td>0.356</td><td>176.538</td><td>15.15</td><td>0.208</td><td>408.302</td><td>3.506</td><td>26.81</td><td>0.433</td><td>84.54</td><td>0.54</td><td>-7.328</td><td>0.54</td><td>115.184</td><td>15.23</td><td>0.208</td><td>220.764</td><td>3.656</td><td>14.942</td><td>0.272</td><td>86.559</td><td>1.08</td><td>-5.752</td><td>1.08</td><td>60.121</td><td>14.775</td><td>0.111</td><td>162.31</td><td>3.583</td><td>10.938</td><td>0.255</td><td>86.559</td><td>1.433</td><td>-5.752</td><td>1.433</td><td>44.834</td><td>14.84</td><td>0.111</td><td>SF</td><td>True</td><td>SF</td><td>True</td><td>1</td><td>1</td></tr>\n",
       "<tr><td>588017979956068472</td><td>550231272861990912</td><td>588017979956068472</td><td>53357</td><td>1954</td><td>429</td><td>153.88606831</td><td>36.79933849</td><td>0.0812451</td><td>1</td><td>64</td><td>19.82081</td><td>18.284071</td><td>17.472372</td><td>17.075512</td><td>16.878845</td><td>195453357429</td><td>195453357429</td><td>-15.25477</td><td>-16.1495</td><td>-18.38153</td><td>-19.79759</td><td>-20.48049</td><td>-20.75044</td><td>-20.94998</td><td>10.753399848937988</td><td>9.91349983215332</td><td>-18.343109130859375</td><td>-19.807809829711914</td><td>-20.488149642944336</td><td>-20.787790298461914</td><td>-20.990020751953125</td><td>10.121800422668457</td><td>0.5304999947547913</td><td>0.7749000191688538</td><td>0.21799999475479126</td><td>117.54998</td><td>11.809324</td><td>33</td><td>0.788</td><td>0.03</td><td>0.03</td><td>0.091</td><td>0.061</td><td>0.0</td><td>0.152</td><td>0.379</td><td>0.49</td><td>0</td><td>0</td><td>1</td><td>29.054</td><td>4.262</td><td>4.21</td><td>0.686</td><td>135.038</td><td>14.976</td><td>-26.618</td><td>14.976</td><td>6.816</td><td>6.9</td><td>0.488</td><td>5.426</td><td>2.399</td><td>0.84</td><td>0.375</td><td>51.136</td><td>17.125</td><td>11.626</td><td>18.818</td><td>2.262</td><td>6.46</td><td>0.416</td><td>-999.0</td><td>-999.0</td><td>-999.0</td><td>-999.0</td><td>-999.0</td><td>-999.0</td><td>-999.0</td><td>-999.0</td><td>0.002</td><td>10.228</td><td>0.331</td><td>12.063</td><td>3.815</td><td>1.149</td><td>0.388</td><td>92.168</td><td>22.033</td><td>7.745</td><td>22.033</td><td>3.632</td><td>10.502</td><td>1.236</td><td>9.519</td><td>3.163</td><td>0.861</td><td>0.3</td><td>119.56</td><td>29.448</td><td>-14.376</td><td>32.662</td><td>1.397</td><td>11.061</td><td>1.157</td><td>-999.0</td><td>-999.0</td><td>-999.0</td><td>-999.0</td><td>-999.0</td><td>-999.0</td><td>-999.0</td><td>-999.0</td><td>0.0</td><td>15.114</td><td>0.342</td><td>13.2</td><td>2.995</td><td>0.809</td><td>0.184</td><td>92.168</td><td>15.809</td><td>7.745</td><td>15.807</td><td>3.697</td><td>16.323</td><td>0.255</td><td>-999.0</td><td>2.344</td><td>0.473</td><td>0.15</td><td>119.56</td><td>72.848</td><td>-14.376</td><td>72.848</td><td>0.842</td><td>15.749</td><td>0.574</td><td>22.355</td><td>2.939</td><td>1.419</td><td>0.194</td><td>119.56</td><td>11.881</td><td>-14.376</td><td>11.881</td><td>7.607</td><td>15.749</td><td>0.574</td><td>6.906</td><td>3.48</td><td>0.412</td><td>0.208</td><td>101.327</td><td>38.604</td><td>-46.028</td><td>38.604</td><td>1.984</td><td>16.769</td><td>0.271</td><td>4.817</td><td>3.258</td><td>0.276</td><td>0.187</td><td>92.072</td><td>69.931</td><td>-29.12</td><td>69.931</td><td>1.307</td><td>17.466</td><td>0.322</td><td>28.099</td><td>2.819</td><td>1.603</td><td>0.163</td><td>92.168</td><td>6.991</td><td>7.745</td><td>6.991</td><td>9.966</td><td>17.532</td><td>0.322</td><td>14.53</td><td>2.843</td><td>0.824</td><td>0.162</td><td>92.072</td><td>13.617</td><td>-29.12</td><td>13.617</td><td>5.111</td><td>17.625</td><td>0.322</td><td>7.309</td><td>3.049</td><td>0.425</td><td>0.177</td><td>69.329</td><td>21.863</td><td>1.158</td><td>21.857</td><td>1.841</td><td>17.181</td><td>0.126</td><td>9.932</td><td>3.486</td><td>0.576</td><td>0.202</td><td>69.329</td><td>18.397</td><td>1.158</td><td>18.397</td><td>2.849</td><td>17.257</td><td>0.126</td><td>Composite</td><td>True</td><td>Liny Retired</td><td>True</td><td>3</td><td>4</td></tr>\n",
       "<tr><td>588017979956068478</td><td>550231272841019392</td><td>588017979956068478</td><td>53357</td><td>1954</td><td>424</td><td>153.92211131</td><td>36.73271956</td><td>0.116534</td><td>1</td><td>96</td><td>18.423517</td><td>16.944872</td><td>16.058151</td><td>15.63944</td><td>15.362229</td><td>195453357424</td><td>195453357424</td><td>-18.04511</td><td>-18.92092</td><td>-20.64985</td><td>-22.07856</td><td>-22.77164</td><td>-23.09951</td><td>-23.31719</td><td>11.534700393676758</td><td>9.0</td><td>-20.61540985107422</td><td>-22.094619750976562</td><td>-22.785999298095703</td><td>-23.121089935302734</td><td>-23.359130859375</td><td>9.893099784851074</td><td>1.5282000303268433</td><td>1.4430999755859375</td><td>0.4129999876022339</td><td>193.30005</td><td>7.5863256</td><td>53</td><td>0.849</td><td>0.038</td><td>0.019</td><td>0.057</td><td>0.038</td><td>0.0</td><td>0.113</td><td>0.836</td><td>0.126</td><td>0</td><td>1</td><td>0</td><td>176.285</td><td>6.103</td><td>6.006</td><td>0.381</td><td>231.111</td><td>5.342</td><td>-29.891</td><td>5.342</td><td>19.111</td><td>29.349</td><td>1.558</td><td>-999.0</td><td>-999.0</td><td>-999.0</td><td>-999.0</td><td>-999.0</td><td>-999.0</td><td>-999.0</td><td>-999.0</td><td>0.36</td><td>32.974</td><td>1.371</td><td>8.995</td><td>5.855</td><td>0.193</td><td>0.125</td><td>158.866</td><td>50.788</td><td>-41.278</td><td>51.618</td><td>1.024</td><td>46.72</td><td>1.134</td><td>34.927</td><td>7.355</td><td>0.737</td><td>0.167</td><td>158.866</td><td>20.828</td><td>-41.278</td><td>20.828</td><td>3.87</td><td>47.418</td><td>4.028</td><td>14.371</td><td>10.376</td><td>0.299</td><td>0.217</td><td>206.619</td><td>106.535</td><td>14.492</td><td>106.535</td><td>1.016</td><td>48.0</td><td>3.829</td><td>-994.0</td><td>-999.0</td><td>-999.0</td><td>-999.0</td><td>-999.0</td><td>-999.0</td><td>-999.0</td><td>-999.0</td><td>2.02</td><td>63.653</td><td>1.302</td><td>66.052</td><td>7.585</td><td>0.963</td><td>0.111</td><td>158.866</td><td>12.783</td><td>-41.278</td><td>12.783</td><td>7.305</td><td>68.555</td><td>0.876</td><td>19.362</td><td>5.991</td><td>0.295</td><td>0.092</td><td>206.619</td><td>36.338</td><td>14.492</td><td>36.338</td><td>1.916</td><td>65.602</td><td>1.932</td><td>58.06</td><td>7.935</td><td>0.885</td><td>0.124</td><td>206.619</td><td>19.916</td><td>14.492</td><td>19.916</td><td>5.868</td><td>65.602</td><td>1.932</td><td>38.225</td><td>7.38</td><td>0.568</td><td>0.11</td><td>158.234</td><td>21.095</td><td>-6.504</td><td>21.095</td><td>4.195</td><td>67.324</td><td>0.996</td><td>106.401</td><td>6.752</td><td>1.523</td><td>0.1</td><td>171.43</td><td>6.597</td><td>-26.3</td><td>6.597</td><td>15.379</td><td>69.88</td><td>1.164</td><td>387.37</td><td>12.592</td><td>5.522</td><td>0.202</td><td>158.866</td><td>3.743</td><td>-41.278</td><td>3.743</td><td>25.604</td><td>70.147</td><td>1.164</td><td>320.929</td><td>9.899</td><td>4.551</td><td>0.159</td><td>171.43</td><td>3.803</td><td>-26.3</td><td>3.803</td><td>24.175</td><td>70.519</td><td>1.164</td><td>105.079</td><td>7.458</td><td>1.519</td><td>0.108</td><td>165.504</td><td>8.437</td><td>-27.21</td><td>8.437</td><td>11.919</td><td>69.173</td><td>0.401</td><td>90.176</td><td>6.929</td><td>1.298</td><td>0.1</td><td>165.504</td><td>8.938</td><td>-27.21</td><td>8.938</td><td>10.763</td><td>69.477</td><td>0.401</td><td>Composite</td><td>True</td><td>wAGN</td><td>True</td><td>3</td><td>3</td></tr>\n",
       "<tr><td>588298664656240823</td><td>392604216356503552</td><td>588298664656240823</td><td>53108</td><td>1394</td><td>405</td><td>213.84069907</td><td>44.84174741</td><td>0.135637</td><td>1</td><td>64</td><td>20.43654</td><td>18.386038</td><td>17.336866</td><td>16.883062</td><td>16.516844</td><td>139453108405</td><td>139453108405</td><td>-16.41612</td><td>-17.29986</td><td>-19.14204</td><td>-21.09747</td><td>-21.86942</td><td>-22.22678</td><td>-22.51912</td><td>11.339699745178223</td><td>9.69890022277832</td><td>-19.143470764160156</td><td>-21.112030029296875</td><td>-21.879789352416992</td><td>-22.2523193359375</td><td>-22.558460235595703</td><td>10.084400177001953</td><td>1.3281999826431274</td><td>1.0432000160217285</td><td>0.12800000607967377</td><td>203.1762</td><td>13.309209</td><td>60</td><td>0.767</td><td>0.067</td><td>0.0</td><td>0.067</td><td>0.1</td><td>0.0</td><td>0.133</td><td>0.503</td><td>0.343</td><td>0</td><td>0</td><td>1</td><td>90.206</td><td>5.402</td><td>10.345</td><td>0.98</td><td>275.932</td><td>11.381</td><td>-1.869</td><td>11.381</td><td>9.018</td><td>8.72</td><td>0.64</td><td>14.327</td><td>6.626</td><td>1.972</td><td>0.925</td><td>78.853</td><td>37.068</td><td>-67.152</td><td>37.101</td><td>1.709</td><td>7.264</td><td>0.571</td><td>17.001</td><td>6.495</td><td>1.342</td><td>0.514</td><td>299.846</td><td>46.172</td><td>-36.25</td><td>45.803</td><td>1.208</td><td>12.67</td><td>0.341</td><td>4.539</td><td>3.899</td><td>0.334</td><td>0.29</td><td>299.846</td><td>41.656</td><td>-36.25</td><td>41.566</td><td>1.362</td><td>13.58</td><td>1.635</td><td>-999.0</td><td>-999.0</td><td>-999.0</td><td>-999.0</td><td>-999.0</td><td>-999.0</td><td>-999.0</td><td>-999.0</td><td>0.869</td><td>14.383</td><td>1.477</td><td>-999.0</td><td>-999.0</td><td>-999.0</td><td>-999.0</td><td>-999.0</td><td>-999.0</td><td>-999.0</td><td>-999.0</td><td>0.528</td><td>19.906</td><td>0.463</td><td>31.532</td><td>4.39</td><td>1.455</td><td>0.204</td><td>299.846</td><td>26.779</td><td>-36.25</td><td>26.779</td><td>3.612</td><td>21.678</td><td>0.312</td><td>18.701</td><td>3.839</td><td>0.896</td><td>0.186</td><td>323.976</td><td>38.52</td><td>-32.185</td><td>38.503</td><td>1.323</td><td>20.869</td><td>0.673</td><td>56.08</td><td>5.019</td><td>2.687</td><td>0.256</td><td>323.976</td><td>15.413</td><td>-32.185</td><td>15.413</td><td>5.879</td><td>20.869</td><td>0.673</td><td>61.668</td><td>6.741</td><td>2.82</td><td>0.312</td><td>368.748</td><td>33.236</td><td>-94.875</td><td>33.158</td><td>7.03</td><td>21.867</td><td>0.347</td><td>27.927</td><td>5.19</td><td>1.219</td><td>0.228</td><td>241.053</td><td>18.823</td><td>-50.627</td><td>18.823</td><td>6.373</td><td>22.902</td><td>0.388</td><td>93.434</td><td>5.236</td><td>4.064</td><td>0.238</td><td>299.846</td><td>10.369</td><td>-36.25</td><td>10.369</td><td>10.882</td><td>22.989</td><td>0.388</td><td>84.234</td><td>4.847</td><td>3.645</td><td>0.218</td><td>241.053</td><td>8.812</td><td>-50.627</td><td>8.812</td><td>10.907</td><td>23.111</td><td>0.388</td><td>52.818</td><td>5.193</td><td>2.348</td><td>0.231</td><td>198.92</td><td>12.681</td><td>-40.007</td><td>12.681</td><td>7.861</td><td>22.5</td><td>0.131</td><td>42.911</td><td>5.31</td><td>1.899</td><td>0.235</td><td>198.92</td><td>18.511</td><td>-40.007</td><td>18.511</td><td>5.945</td><td>22.598</td><td>0.131</td><td>AGN</td><td>True</td><td>wAGN</td><td>True</td><td>2</td><td>3</td></tr>\n",
       "<tr><td>588298663045955722</td><td>392604215312121856</td><td>588298663045955722</td><td>53108</td><td>1394</td><td>156</td><td>214.19977046</td><td>43.58876625</td><td>0.138633</td><td>1</td><td>64</td><td>20.340334</td><td>18.685343</td><td>17.65462</td><td>17.205078</td><td>16.827501</td><td>139453108156</td><td>139453108156</td><td>-15.75183</td><td>-16.91056</td><td>-19.23616</td><td>-20.84812</td><td>-21.6041</td><td>-21.96349</td><td>-22.3002</td><td>11.28909969329834</td><td>9.731300354003906</td><td>-19.213850021362305</td><td>-20.856719970703125</td><td>-21.61811065673828</td><td>-21.9855899810791</td><td>-22.344280242919922</td><td>10.074799537658691</td><td>1.0871000289916992</td><td>1.278499960899353</td><td>0.1899999976158142</td><td>160.09496</td><td>10.453443</td><td>26</td><td>0.5</td><td>0.0</td><td>0.115</td><td>0.269</td><td>0.115</td><td>0.0</td><td>0.385</td><td>0.461</td><td>0.423</td><td>0</td><td>0</td><td>1</td><td>225.9</td><td>6.432</td><td>24.449</td><td>2.021</td><td>339.973</td><td>6.083</td><td>-41.918</td><td>6.083</td><td>16.757</td><td>9.24</td><td>0.717</td><td>4.809</td><td>3.096</td><td>0.597</td><td>0.387</td><td>25.834</td><td>15.062</td><td>95.504</td><td>24.254</td><td>2.207</td><td>8.062</td><td>0.636</td><td>11.146</td><td>-3.184</td><td>0.801</td><td>0.23</td><td>239.649</td><td>23.192</td><td>-9.637</td><td>31.269</td><td>1.504</td><td>13.907</td><td>0.435</td><td>21.911</td><td>4.355</td><td>1.489</td><td>0.353</td><td>239.649</td><td>22.435</td><td>-9.637</td><td>22.435</td><td>3.36</td><td>14.715</td><td>1.896</td><td>-999.0</td><td>-999.0</td><td>-999.0</td><td>-999.0</td><td>-999.0</td><td>-999.0</td><td>-999.0</td><td>-999.0</td><td>0.043</td><td>15.592</td><td>1.732</td><td>12.452</td><td>4.548</td><td>0.569</td><td>0.208</td><td>126.636</td><td>31.401</td><td>-100.96</td><td>31.401</td><td>2.187</td><td>21.88</td><td>0.543</td><td>34.619</td><td>4.904</td><td>1.459</td><td>0.208</td><td>239.649</td><td>24.052</td><td>-9.637</td><td>24.052</td><td>3.703</td><td>23.733</td><td>0.389</td><td>54.839</td><td>4.209</td><td>2.388</td><td>0.204</td><td>176.473</td><td>8.658</td><td>-14.521</td><td>8.658</td><td>11.065</td><td>22.969</td><td>0.853</td><td>164.445</td><td>5.644</td><td>7.159</td><td>0.362</td><td>176.473</td><td>4.216</td><td>-14.521</td><td>4.216</td><td>23.263</td><td>22.969</td><td>0.853</td><td>39.804</td><td>6.538</td><td>1.63</td><td>0.27</td><td>355.225</td><td>46.909</td><td>-158.117</td><td>46.766</td><td>5.014</td><td>24.417</td><td>0.457</td><td>72.481</td><td>5.253</td><td>2.807</td><td>0.21</td><td>252.8</td><td>9.404</td><td>-28.738</td><td>9.404</td><td>10.916</td><td>25.825</td><td>0.497</td><td>162.744</td><td>6.298</td><td>6.278</td><td>0.271</td><td>239.649</td><td>5.954</td><td>-9.637</td><td>5.954</td><td>17.133</td><td>25.923</td><td>0.497</td><td>218.618</td><td>6.417</td><td>8.389</td><td>0.294</td><td>252.8</td><td>4.982</td><td>-28.738</td><td>4.982</td><td>18.725</td><td>26.061</td><td>0.497</td><td>81.63</td><td>8.072</td><td>3.223</td><td>0.32</td><td>495.362</td><td>18.163</td><td>-93.723</td><td>18.163</td><td>5.61</td><td>25.328</td><td>0.181</td><td>84.732</td><td>7.882</td><td>3.331</td><td>0.311</td><td>495.362</td><td>19.468</td><td>-93.723</td><td>19.468</td><td>5.089</td><td>25.439</td><td>0.181</td><td>AGN</td><td>True</td><td>sAGN</td><td>True</td><td>2</td><td>2</td></tr>\n",
       "</table>"
      ],
      "text/plain": [
       "<Table masked=True length=305432>\n",
       "      objid            specobjid      ... BPT_class_n WHAN_class_n\n",
       "      int64              int64        ...    int64       int64    \n",
       "------------------ ------------------ ... ----------- ------------\n",
       "587722981742936283  94235951986900992 ...           1            1\n",
       "587724648181465292  92548342076145664 ...           1            1\n",
       "587724648181465285  92548342071951360 ...           1            1\n",
       "587724648181465208  92828847405268992 ...           3            3\n",
       "587724648185397285  93955850418257920 ...           1            1\n",
       "587724648183890049  93393136142778368 ...           2            2\n",
       "587724648183890036  93393136146972672 ...           1            1\n",
       "587724648182317252  92828846214086656 ...           3            3\n",
       "587724648182186038  93111670955573248 ...           2            4\n",
       "587724648182186015  93111670942990336 ...           1            3\n",
       "               ...                ... ...         ...          ...\n",
       "588298663046021410 392604215140155392 ...           2            3\n",
       "588017979957051407 551075947567120384 ...           1            1\n",
       "588017979957051419 551075947768446976 ...           1            1\n",
       "588298664119566501 392604216511692800 ...           1            1\n",
       "588298661972082812 392604215538614272 ...           3            2\n",
       "588017979956068441 550231272681635840 ...           1            1\n",
       "588017979956068472 550231272861990912 ...           3            4\n",
       "588017979956068478 550231272841019392 ...           3            3\n",
       "588298664656240823 392604216356503552 ...           2            3\n",
       "588298663045955722 392604215312121856 ...           2            2"
      ]
     },
     "execution_count": 63,
     "metadata": {},
     "output_type": "execute_result"
    }
   ],
   "source": [
    "df"
   ]
  },
  {
   "cell_type": "code",
   "execution_count": 64,
   "metadata": {},
   "outputs": [],
   "source": [
    "import numpy as np\n",
    "line_list = ['specobjid','3727_ew', '4340_ew', '4861_ew', '5007_ew', '6300_ew', '6548_ew', \\\n",
    "             '6563_ew', '6584_ew', '6717_ew', '6731_ew']\n",
    "features = np.array([df[line].data.data for line in line_list])\n"
   ]
  },
  {
   "cell_type": "code",
   "execution_count": 65,
   "metadata": {},
   "outputs": [
    {
     "data": {
      "text/plain": [
       "(11, 305432)"
      ]
     },
     "execution_count": 65,
     "metadata": {},
     "output_type": "execute_result"
    }
   ],
   "source": [
    "features.shape"
   ]
  },
  {
   "cell_type": "code",
   "execution_count": 66,
   "metadata": {},
   "outputs": [],
   "source": [
    "features = features.T\n",
    "\n",
    "zeros = np.zeros((features.shape[0], 6))\n",
    "features = np.concatenate([features,zeros], axis = 1)\n",
    "labels = [\"BPT_flag\", \"WHAN_flag\"]\n",
    "classe = np.array([df[label].data.data for label in labels])\n",
    "features = np.concatenate([features,classe.T], axis=1)\n",
    "\n"
   ]
  },
  {
   "cell_type": "code",
   "execution_count": 68,
   "metadata": {},
   "outputs": [],
   "source": [
    "import pandas as pd\n",
    "\n",
    "for i in range(zeros.shape[1]):\n",
    "    line_list.extend([\"pad\"])\n",
    "line_list.extend(labels)\n",
    "\n",
    "df = pd.DataFrame(data = features, columns = line_list)"
   ]
  },
  {
   "cell_type": "code",
   "execution_count": 69,
   "metadata": {},
   "outputs": [
    {
     "data": {
      "text/html": [
       "<div>\n",
       "<style scoped>\n",
       "    .dataframe tbody tr th:only-of-type {\n",
       "        vertical-align: middle;\n",
       "    }\n",
       "\n",
       "    .dataframe tbody tr th {\n",
       "        vertical-align: top;\n",
       "    }\n",
       "\n",
       "    .dataframe thead th {\n",
       "        text-align: right;\n",
       "    }\n",
       "</style>\n",
       "<table border=\"1\" class=\"dataframe\">\n",
       "  <thead>\n",
       "    <tr style=\"text-align: right;\">\n",
       "      <th></th>\n",
       "      <th>specobjid</th>\n",
       "      <th>3727_ew</th>\n",
       "      <th>4340_ew</th>\n",
       "      <th>4861_ew</th>\n",
       "      <th>5007_ew</th>\n",
       "      <th>6300_ew</th>\n",
       "      <th>6548_ew</th>\n",
       "      <th>6563_ew</th>\n",
       "      <th>6584_ew</th>\n",
       "      <th>6717_ew</th>\n",
       "      <th>6731_ew</th>\n",
       "      <th>pad</th>\n",
       "      <th>pad</th>\n",
       "      <th>pad</th>\n",
       "      <th>pad</th>\n",
       "      <th>pad</th>\n",
       "      <th>pad</th>\n",
       "      <th>BPT_flag</th>\n",
       "      <th>WHAN_flag</th>\n",
       "    </tr>\n",
       "  </thead>\n",
       "  <tbody>\n",
       "    <tr>\n",
       "      <th>0</th>\n",
       "      <td>9.423595e+16</td>\n",
       "      <td>-999.000</td>\n",
       "      <td>45.339</td>\n",
       "      <td>131.906</td>\n",
       "      <td>553.732</td>\n",
       "      <td>7.849</td>\n",
       "      <td>7.484</td>\n",
       "      <td>752.686</td>\n",
       "      <td>22.375</td>\n",
       "      <td>46.177</td>\n",
       "      <td>33.587</td>\n",
       "      <td>0.0</td>\n",
       "      <td>0.0</td>\n",
       "      <td>0.0</td>\n",
       "      <td>0.0</td>\n",
       "      <td>0.0</td>\n",
       "      <td>0.0</td>\n",
       "      <td>1.0</td>\n",
       "      <td>1.0</td>\n",
       "    </tr>\n",
       "    <tr>\n",
       "      <th>1</th>\n",
       "      <td>9.254834e+16</td>\n",
       "      <td>12.214</td>\n",
       "      <td>2.872</td>\n",
       "      <td>6.951</td>\n",
       "      <td>2.288</td>\n",
       "      <td>1.353</td>\n",
       "      <td>4.307</td>\n",
       "      <td>35.243</td>\n",
       "      <td>12.875</td>\n",
       "      <td>6.185</td>\n",
       "      <td>5.074</td>\n",
       "      <td>0.0</td>\n",
       "      <td>0.0</td>\n",
       "      <td>0.0</td>\n",
       "      <td>0.0</td>\n",
       "      <td>0.0</td>\n",
       "      <td>0.0</td>\n",
       "      <td>1.0</td>\n",
       "      <td>1.0</td>\n",
       "    </tr>\n",
       "    <tr>\n",
       "      <th>2</th>\n",
       "      <td>9.254834e+16</td>\n",
       "      <td>5.567</td>\n",
       "      <td>1.751</td>\n",
       "      <td>3.590</td>\n",
       "      <td>0.775</td>\n",
       "      <td>0.604</td>\n",
       "      <td>2.764</td>\n",
       "      <td>21.491</td>\n",
       "      <td>8.262</td>\n",
       "      <td>2.621</td>\n",
       "      <td>2.335</td>\n",
       "      <td>0.0</td>\n",
       "      <td>0.0</td>\n",
       "      <td>0.0</td>\n",
       "      <td>0.0</td>\n",
       "      <td>0.0</td>\n",
       "      <td>0.0</td>\n",
       "      <td>1.0</td>\n",
       "      <td>1.0</td>\n",
       "    </tr>\n",
       "    <tr>\n",
       "      <th>3</th>\n",
       "      <td>9.282885e+16</td>\n",
       "      <td>6.838</td>\n",
       "      <td>0.857</td>\n",
       "      <td>0.819</td>\n",
       "      <td>0.700</td>\n",
       "      <td>0.336</td>\n",
       "      <td>0.844</td>\n",
       "      <td>3.450</td>\n",
       "      <td>2.524</td>\n",
       "      <td>1.111</td>\n",
       "      <td>1.421</td>\n",
       "      <td>0.0</td>\n",
       "      <td>0.0</td>\n",
       "      <td>0.0</td>\n",
       "      <td>0.0</td>\n",
       "      <td>0.0</td>\n",
       "      <td>0.0</td>\n",
       "      <td>1.0</td>\n",
       "      <td>1.0</td>\n",
       "    </tr>\n",
       "    <tr>\n",
       "      <th>4</th>\n",
       "      <td>9.395585e+16</td>\n",
       "      <td>6.645</td>\n",
       "      <td>2.759</td>\n",
       "      <td>5.743</td>\n",
       "      <td>1.788</td>\n",
       "      <td>0.605</td>\n",
       "      <td>3.399</td>\n",
       "      <td>28.521</td>\n",
       "      <td>10.158</td>\n",
       "      <td>3.845</td>\n",
       "      <td>2.578</td>\n",
       "      <td>0.0</td>\n",
       "      <td>0.0</td>\n",
       "      <td>0.0</td>\n",
       "      <td>0.0</td>\n",
       "      <td>0.0</td>\n",
       "      <td>0.0</td>\n",
       "      <td>1.0</td>\n",
       "      <td>1.0</td>\n",
       "    </tr>\n",
       "  </tbody>\n",
       "</table>\n",
       "</div>"
      ],
      "text/plain": [
       "      specobjid  3727_ew  4340_ew  4861_ew  5007_ew  6300_ew  6548_ew  \\\n",
       "0  9.423595e+16 -999.000   45.339  131.906  553.732    7.849    7.484   \n",
       "1  9.254834e+16   12.214    2.872    6.951    2.288    1.353    4.307   \n",
       "2  9.254834e+16    5.567    1.751    3.590    0.775    0.604    2.764   \n",
       "3  9.282885e+16    6.838    0.857    0.819    0.700    0.336    0.844   \n",
       "4  9.395585e+16    6.645    2.759    5.743    1.788    0.605    3.399   \n",
       "\n",
       "   6563_ew  6584_ew  6717_ew  6731_ew  pad  pad  pad  pad  pad  pad  BPT_flag  \\\n",
       "0  752.686   22.375   46.177   33.587  0.0  0.0  0.0  0.0  0.0  0.0       1.0   \n",
       "1   35.243   12.875    6.185    5.074  0.0  0.0  0.0  0.0  0.0  0.0       1.0   \n",
       "2   21.491    8.262    2.621    2.335  0.0  0.0  0.0  0.0  0.0  0.0       1.0   \n",
       "3    3.450    2.524    1.111    1.421  0.0  0.0  0.0  0.0  0.0  0.0       1.0   \n",
       "4   28.521   10.158    3.845    2.578  0.0  0.0  0.0  0.0  0.0  0.0       1.0   \n",
       "\n",
       "   WHAN_flag  \n",
       "0        1.0  \n",
       "1        1.0  \n",
       "2        1.0  \n",
       "3        1.0  \n",
       "4        1.0  "
      ]
     },
     "execution_count": 69,
     "metadata": {},
     "output_type": "execute_result"
    }
   ],
   "source": [
    "df.head(5)"
   ]
  },
  {
   "cell_type": "code",
   "execution_count": 70,
   "metadata": {},
   "outputs": [
    {
     "name": "stdout",
     "output_type": "stream",
     "text": [
      "(305432,)\n"
     ]
    },
    {
     "data": {
      "text/plain": [
       "(248788, 19)"
      ]
     },
     "execution_count": 70,
     "metadata": {},
     "output_type": "execute_result"
    }
   ],
   "source": [
    "line_list = ['3727_ew', '4340_ew', '4861_ew', '5007_ew', '6300_ew', '6548_ew', \\\n",
    "             '6563_ew', '6584_ew', '6717_ew', '6731_ew']\n",
    "for line in line_list:\n",
    "    df = df[df[line] != -999]\n",
    "    \n",
    "df.shape"
   ]
  },
  {
   "cell_type": "code",
   "execution_count": 71,
   "metadata": {},
   "outputs": [],
   "source": [
    "df.to_csv(\"Dataset\", index=False)"
   ]
  },
  {
   "cell_type": "code",
   "execution_count": 72,
   "metadata": {},
   "outputs": [
    {
     "name": "stdout",
     "output_type": "stream",
     "text": [
      "(248788, 19) (248788, 18)\n"
     ]
    }
   ],
   "source": [
    "import pandas as pd\n",
    "import numpy as np\n",
    "\n",
    "d = pd.read_csv(\"Dataset\")\n",
    "e = pd.read_csv(\"Training_Data\")\n",
    "print(d.shape, e.shape)"
   ]
  },
  {
   "cell_type": "code",
   "execution_count": null,
   "metadata": {},
   "outputs": [],
   "source": []
  }
 ],
 "metadata": {
  "accelerator": "GPU",
  "colab": {
   "collapsed_sections": [],
   "name": "Preprocessing_Data.ipynb",
   "provenance": [
    {
     "file_id": "10XGkX9cMvXWycqzPiF4btuQDIQx1Mn8u",
     "timestamp": 1550655274707
    },
    {
     "file_id": "1eqLezR3aDWSW5e5uJVpPOQIHKT2MpTvp",
     "timestamp": 1550158451388
    }
   ],
   "version": "0.3.2"
  },
  "kernelspec": {
   "display_name": "Python 3",
   "language": "python",
   "name": "python3"
  },
  "language_info": {
   "codemirror_mode": {
    "name": "ipython",
    "version": 3
   },
   "file_extension": ".py",
   "mimetype": "text/x-python",
   "name": "python",
   "nbconvert_exporter": "python",
   "pygments_lexer": "ipython3",
   "version": "3.7.3"
  }
 },
 "nbformat": 4,
 "nbformat_minor": 2
}
